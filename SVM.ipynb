{
  "nbformat": 4,
  "nbformat_minor": 0,
  "metadata": {
    "colab": {
      "name": "SVM.ipynb",
      "provenance": [],
      "include_colab_link": true
    },
    "kernelspec": {
      "name": "python3",
      "display_name": "Python 3"
    },
    "language_info": {
      "name": "python"
    }
  },
  "cells": [
    {
      "cell_type": "markdown",
      "metadata": {
        "id": "view-in-github",
        "colab_type": "text"
      },
      "source": [
        "<a href=\"https://colab.research.google.com/github/maliksh7/CS4104-Applied-Machine-Learning/blob/main/SVM.ipynb\" target=\"_parent\"><img src=\"https://colab.research.google.com/assets/colab-badge.svg\" alt=\"Open In Colab\"/></a>"
      ]
    },
    {
      "cell_type": "markdown",
      "source": [
        "#Question No. 01:"
      ],
      "metadata": {
        "id": "3H0BcWhPlcOe"
      }
    },
    {
      "cell_type": "code",
      "execution_count": 1,
      "metadata": {
        "colab": {
          "base_uri": "https://localhost:8080/"
        },
        "id": "4oKpp9ak7vqn",
        "outputId": "0daa714f-beea-4be1-9725-f0447f640277"
      },
      "outputs": [
        {
          "output_type": "stream",
          "name": "stdout",
          "text": [
            "Mounted at /content/drive\n"
          ]
        }
      ],
      "source": [
        "from google.colab import drive\n",
        "drive.mount('/content/drive', force_remount=True)"
      ]
    },
    {
      "cell_type": "code",
      "source": [
        "import pandas as pd\n",
        "from pprint import pprint\n",
        "from sklearn.model_selection import train_test_split \n",
        "from sklearn.ensemble import VotingClassifier\n",
        "from sklearn.metrics import accuracy_score"
      ],
      "metadata": {
        "id": "R9o3mgTI7yFu"
      },
      "execution_count": 2,
      "outputs": []
    },
    {
      "cell_type": "code",
      "source": [
        "df = pd.read_csv('/content/drive/MyDrive/Machine Learning/Assignment 3/dataset/student-data.csv')\n",
        "pprint(df.sample(12))\n",
        "print('Shape: {}'.format(df.shape))"
      ],
      "metadata": {
        "id": "36WB1ZHE70TC",
        "colab": {
          "base_uri": "https://localhost:8080/"
        },
        "outputId": "6587a944-5032-4510-c875-79f52f99c445"
      },
      "execution_count": 3,
      "outputs": [
        {
          "output_type": "stream",
          "name": "stdout",
          "text": [
            "   Student ID  Marks > 50  Attendance > 50  Subjects > 20 Grade(S/U)\n",
            "5     P180005           1                0              1          S\n",
            "3     P180003           1                0              0          S\n",
            "1     P180001           1                1              0          S\n",
            "4     P180004           0                1              1          U\n",
            "7     P180007           0                0              0          U\n",
            "0     P181234           1                1              1          S\n",
            "6     P180006           1                1              1          S\n",
            "8     P180007           0                0              1          U\n",
            "9     P180008           1                1              1          U\n",
            "12    P180011           0                1              1          S\n",
            "11    P180010           1                0              0          S\n",
            "2     P180002           0                1              1          U\n",
            "Shape: (13, 5)\n"
          ]
        }
      ]
    },
    {
      "cell_type": "code",
      "source": [
        "print('Columns in dataframe: \\n{}'.format(df.columns))"
      ],
      "metadata": {
        "colab": {
          "base_uri": "https://localhost:8080/"
        },
        "id": "VckBlSIR8Cw5",
        "outputId": "3ac485ad-c6a0-46a3-d434-6fffe214656a"
      },
      "execution_count": 4,
      "outputs": [
        {
          "output_type": "stream",
          "name": "stdout",
          "text": [
            "Columns in dataframe: \n",
            "Index(['Student ID', 'Marks > 50', 'Attendance > 50', 'Subjects > 20',\n",
            "       'Grade(S/U)'],\n",
            "      dtype='object')\n"
          ]
        }
      ]
    },
    {
      "cell_type": "code",
      "source": [
        "features = ['Marks > 50', 'Attendance > 50', 'Subjects > 20']\n",
        "\n",
        "X = df[features] # Features\n",
        "\n",
        "y = df['Grade(S/U)']"
      ],
      "metadata": {
        "id": "85qEEqzd8VwR"
      },
      "execution_count": 5,
      "outputs": []
    },
    {
      "cell_type": "code",
      "source": [
        "X_train, X_test, y_train, y_test = train_test_split(X, y, train_size=8, test_size=4, shuffle=True, random_state=1)"
      ],
      "metadata": {
        "id": "IsTUHvL48nzx"
      },
      "execution_count": 6,
      "outputs": []
    },
    {
      "cell_type": "code",
      "source": [
        "X_train"
      ],
      "metadata": {
        "colab": {
          "base_uri": "https://localhost:8080/",
          "height": 300
        },
        "id": "tU-l0KnIGZ13",
        "outputId": "52db304f-f53b-4515-8883-e9d35bd8807a"
      },
      "execution_count": 7,
      "outputs": [
        {
          "output_type": "execute_result",
          "data": {
            "text/html": [
              "<div>\n",
              "<style scoped>\n",
              "    .dataframe tbody tr th:only-of-type {\n",
              "        vertical-align: middle;\n",
              "    }\n",
              "\n",
              "    .dataframe tbody tr th {\n",
              "        vertical-align: top;\n",
              "    }\n",
              "\n",
              "    .dataframe thead th {\n",
              "        text-align: right;\n",
              "    }\n",
              "</style>\n",
              "<table border=\"1\" class=\"dataframe\">\n",
              "  <thead>\n",
              "    <tr style=\"text-align: right;\">\n",
              "      <th></th>\n",
              "      <th>Marks &gt; 50</th>\n",
              "      <th>Attendance &gt; 50</th>\n",
              "      <th>Subjects &gt; 20</th>\n",
              "    </tr>\n",
              "  </thead>\n",
              "  <tbody>\n",
              "    <tr>\n",
              "      <th>1</th>\n",
              "      <td>1</td>\n",
              "      <td>1</td>\n",
              "      <td>0</td>\n",
              "    </tr>\n",
              "    <tr>\n",
              "      <th>6</th>\n",
              "      <td>1</td>\n",
              "      <td>1</td>\n",
              "      <td>1</td>\n",
              "    </tr>\n",
              "    <tr>\n",
              "      <th>0</th>\n",
              "      <td>1</td>\n",
              "      <td>1</td>\n",
              "      <td>1</td>\n",
              "    </tr>\n",
              "    <tr>\n",
              "      <th>7</th>\n",
              "      <td>0</td>\n",
              "      <td>0</td>\n",
              "      <td>0</td>\n",
              "    </tr>\n",
              "    <tr>\n",
              "      <th>12</th>\n",
              "      <td>0</td>\n",
              "      <td>1</td>\n",
              "      <td>1</td>\n",
              "    </tr>\n",
              "    <tr>\n",
              "      <th>9</th>\n",
              "      <td>1</td>\n",
              "      <td>1</td>\n",
              "      <td>1</td>\n",
              "    </tr>\n",
              "    <tr>\n",
              "      <th>8</th>\n",
              "      <td>0</td>\n",
              "      <td>0</td>\n",
              "      <td>1</td>\n",
              "    </tr>\n",
              "    <tr>\n",
              "      <th>11</th>\n",
              "      <td>1</td>\n",
              "      <td>0</td>\n",
              "      <td>0</td>\n",
              "    </tr>\n",
              "  </tbody>\n",
              "</table>\n",
              "</div>"
            ],
            "text/plain": [
              "    Marks > 50  Attendance > 50  Subjects > 20\n",
              "1            1                1              0\n",
              "6            1                1              1\n",
              "0            1                1              1\n",
              "7            0                0              0\n",
              "12           0                1              1\n",
              "9            1                1              1\n",
              "8            0                0              1\n",
              "11           1                0              0"
            ]
          },
          "metadata": {},
          "execution_count": 7
        }
      ]
    },
    {
      "cell_type": "markdown",
      "source": [
        "##Apply Linear SVM classifier with the regularization parameter values of [0.1 to 1.0] and display the results as SVM1 to SVM10."
      ],
      "metadata": {
        "id": "0d9qLp-lI8P2"
      }
    },
    {
      "cell_type": "code",
      "source": [
        " # Fitting SVM to the Training set\n",
        "from sklearn.svm import SVC\n",
        "\n",
        "# regularization parameter values of [0.1 to 1.0]:\n",
        "arr = [0.1, 0.2, 0.3, 0.4, 0.5, 0.6, 0.7, 0.8, 0.9, 1.0]\n",
        "\n",
        "for i in range(0, len(arr)):\n",
        "\n",
        "  clf = SVC(kernel = 'linear', C = arr[i]) # where C is a regularization parameter\n",
        "  clf.fit(X_train, y_train)\n",
        "\n",
        "  pred = clf.predict(X_test)\n",
        "  acc = accuracy_score(y_test, pred)\n",
        "  print('SVM{}:\\n For C = {}, Accuracy Score = {}\\n'.format(i+1, arr[i], acc))\n"
      ],
      "metadata": {
        "id": "xwxB6uwT0ewc",
        "colab": {
          "base_uri": "https://localhost:8080/"
        },
        "outputId": "ddc5e8f2-b67a-4f82-8df4-896611b240b4"
      },
      "execution_count": 8,
      "outputs": [
        {
          "output_type": "stream",
          "name": "stdout",
          "text": [
            "SVM1:\n",
            " For C = 0.1, Accuracy Score = 0.5\n",
            "\n",
            "SVM2:\n",
            " For C = 0.2, Accuracy Score = 0.5\n",
            "\n",
            "SVM3:\n",
            " For C = 0.3, Accuracy Score = 0.5\n",
            "\n",
            "SVM4:\n",
            " For C = 0.4, Accuracy Score = 0.5\n",
            "\n",
            "SVM5:\n",
            " For C = 0.5, Accuracy Score = 0.5\n",
            "\n",
            "SVM6:\n",
            " For C = 0.6, Accuracy Score = 0.5\n",
            "\n",
            "SVM7:\n",
            " For C = 0.7, Accuracy Score = 0.5\n",
            "\n",
            "SVM8:\n",
            " For C = 0.8, Accuracy Score = 0.5\n",
            "\n",
            "SVM9:\n",
            " For C = 0.9, Accuracy Score = 0.5\n",
            "\n",
            "SVM10:\n",
            " For C = 1.0, Accuracy Score = 0.5\n",
            "\n"
          ]
        }
      ]
    },
    {
      "cell_type": "markdown",
      "source": [
        "# Apply the weighted majority voting on the results of SVM1 to SVM10\n",
        "# with the weights of [0.1 to 1.0]."
      ],
      "metadata": {
        "id": "EiV5HIcqY0Io"
      }
    },
    {
      "cell_type": "code",
      "source": [
        " from sklearn.svm import SVC\n",
        "#  svc = SVC(gamma ='auto', probability = True)"
      ],
      "metadata": {
        "id": "wo7smH2u844w"
      },
      "execution_count": 12,
      "outputs": []
    },
    {
      "cell_type": "code",
      "source": [
        "# svc.fit(X,y)"
      ],
      "metadata": {
        "id": "0UjFVrQc9czR"
      },
      "execution_count": 13,
      "outputs": []
    },
    {
      "cell_type": "code",
      "source": [
        "# vot_hard = VotingClassifier(estimators = [('SVC',svc)], voting ='hard')\n",
        "# vot_hard.fit(X_train, y_train)\n",
        "# y_pred = vot_hard.predict(X_test)\n",
        "# score = accuracy_score(y_test, y_pred)\n",
        "# print(\"Hard Voting Score % d\" % score)"
      ],
      "metadata": {
        "id": "Ihxpfjoz96NQ"
      },
      "execution_count": 14,
      "outputs": []
    },
    {
      "cell_type": "code",
      "source": [
        "clf1 = SVC(kernel = 'linear', C = 0.1)\n",
        "clf2 = SVC(kernel = 'linear', C = 0.2)\n",
        "clf3 = SVC(kernel = 'linear', C = 0.3)\n",
        "clf4 = SVC(kernel = 'linear', C = 0.4)\n",
        "clf5 = SVC(kernel = 'linear', C = 0.5)\n",
        "clf6 = SVC(kernel = 'linear', C = 0.6)\n",
        "clf7 = SVC(kernel = 'linear', C = 0.7)\n",
        "clf8 = SVC(kernel = 'linear', C = 0.8)\n",
        "clf9 = SVC(kernel = 'linear', C = 0.9)\n",
        "clf10 = SVC(kernel = 'linear', C = 1.0)"
      ],
      "metadata": {
        "id": "xioYMzQrSIr9"
      },
      "execution_count": 15,
      "outputs": []
    },
    {
      "cell_type": "code",
      "source": [
        " eclf3 = VotingClassifier(estimators=[('SVM1', clf1),('SVM2', clf2), ('SVM3', clf3), ('SVM4', clf4), ('SVM5', clf5), ('SVM6', clf6), ('SVM7', clf7), ('SVM8', clf8), ('SVM9', clf9), ('SVM10', clf10)],\n",
        "           voting='hard', weights=[0.1, 0.2, 0.3, 0.4, 0.5, 0.6, 0.7, 0.8, 0.9, 1.0],\n",
        "           flatten_transform=True)"
      ],
      "metadata": {
        "id": "IrnNkeAEBahI"
      },
      "execution_count": 16,
      "outputs": []
    },
    {
      "cell_type": "code",
      "source": [
        "eclf3 = eclf3.fit(X, y)\n",
        "print('Weighted majority voting: {}'.format(eclf3.predict(X)))"
      ],
      "metadata": {
        "colab": {
          "base_uri": "https://localhost:8080/"
        },
        "id": "0qjyhOZOqcPq",
        "outputId": "23055895-ab35-4da3-ac3d-1a950aef7b97"
      },
      "execution_count": 22,
      "outputs": [
        {
          "output_type": "stream",
          "name": "stdout",
          "text": [
            "Weighted majority voting: ['S' 'S' 'U' 'S' 'U' 'S' 'S' 'U' 'U' 'S' 'U' 'S' 'U']\n"
          ]
        }
      ]
    },
    {
      "cell_type": "markdown",
      "source": [
        "##Apply the hard majority voting on the same results as in step 3 (SVM1\n",
        "##to SVM10)."
      ],
      "metadata": {
        "id": "6HiduIeaZf40"
      }
    },
    {
      "cell_type": "code",
      "source": [
        " eclf3 = VotingClassifier(estimators=[('SVM1', clf1),('SVM2', clf2), ('SVM3', clf3), \n",
        "                                      ('SVM4', clf4), ('SVM5', clf5), ('SVM6', clf6), \n",
        "                                      ('SVM7', clf7), ('SVM8', clf8), ('SVM9', clf9), \n",
        "                                      ('SVM10', clf10)],\n",
        "           voting='hard',flatten_transform=True)"
      ],
      "metadata": {
        "id": "K3PlzS02uBUA"
      },
      "execution_count": 18,
      "outputs": []
    },
    {
      "cell_type": "code",
      "source": [
        "eclf3 = eclf3.fit(X, y)\n",
        "print('Hard Voting: {}'.format(eclf3.predict(X)))"
      ],
      "metadata": {
        "id": "JW53Z0CLFcu_",
        "colab": {
          "base_uri": "https://localhost:8080/"
        },
        "outputId": "b9c51efb-29cf-4a3e-8aa5-1c06e21fb1bd"
      },
      "execution_count": 20,
      "outputs": [
        {
          "output_type": "stream",
          "name": "stdout",
          "text": [
            "Hard Voting: ['S' 'S' 'U' 'S' 'U' 'S' 'S' 'U' 'U' 'S' 'U' 'S' 'U']\n"
          ]
        }
      ]
    },
    {
      "cell_type": "code",
      "source": [
        ""
      ],
      "metadata": {
        "id": "4ozmzowtoOYB"
      },
      "execution_count": null,
      "outputs": []
    }
  ]
}