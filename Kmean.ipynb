{
  "cells": [
    {
      "cell_type": "markdown",
      "metadata": {
        "id": "view-in-github",
        "colab_type": "text"
      },
      "source": [
        "<a href=\"https://colab.research.google.com/github/maliksh7/CS4104-Applied-Machine-Learning/blob/main/Kmean.ipynb\" target=\"_parent\"><img src=\"https://colab.research.google.com/assets/colab-badge.svg\" alt=\"Open In Colab\"/></a>"
      ]
    },
    {
      "cell_type": "markdown",
      "source": [
        "###Submitted by: Muhammad Saad Hassan\n",
        "###Roll Number:  P176137\n",
        "###Assignment No. 03"
      ],
      "metadata": {
        "id": "N4g7Vqs3hf2w"
      }
    },
    {
      "cell_type": "markdown",
      "source": [
        "#Question 3:\n",
        "##Using the dataset in the Table 1, convert it into three clusters using K-means\n",
        "##clustering (Code). Show the clusters computed by the K-means."
      ],
      "metadata": {
        "id": "mNAqD5KzhQHp"
      }
    },
    {
      "cell_type": "code",
      "execution_count": 4,
      "metadata": {
        "colab": {
          "base_uri": "https://localhost:8080/"
        },
        "id": "JY1aw1s2HydK",
        "outputId": "8cccfbc2-399d-4777-ee6c-cb87a9d4ce19"
      },
      "outputs": [
        {
          "output_type": "stream",
          "name": "stdout",
          "text": [
            "Mounted at /content/drive\n"
          ]
        }
      ],
      "source": [
        " from google.colab import drive\n",
        "drive.mount('/content/drive', force_remount=True)"
      ]
    },
    {
      "cell_type": "code",
      "execution_count": 5,
      "metadata": {
        "id": "_7ukzvHFH0AJ"
      },
      "outputs": [],
      "source": [
        "import pandas as pd\n",
        "from pprint import pprint\n",
        "from sklearn.model_selection import train_test_split\n",
        "from sklearn.cluster import KMeans"
      ]
    },
    {
      "cell_type": "code",
      "execution_count": 10,
      "metadata": {
        "colab": {
          "base_uri": "https://localhost:8080/"
        },
        "id": "ZM_0OEo3H7kA",
        "outputId": "f766e18b-af0e-4c39-b0e9-bcd9b5013bb8"
      },
      "outputs": [
        {
          "output_type": "stream",
          "name": "stdout",
          "text": [
            "   Student ID  Marks > 50  Attendance > 50  Subjects > 20 Grade(S/U)\n",
            "0     P181234           1                1              1          S\n",
            "1     P180001           1                1              0          S\n",
            "2     P180002           0                1              1          U\n",
            "3     P180003           1                0              0          S\n",
            "4     P180004           0                1              1          U\n",
            "5     P180005           1                0              1          S\n",
            "6     P180006           1                1              1          S\n",
            "7     P180007           0                0              0          U\n",
            "8     P180007           0                0              1          U\n",
            "9     P180008           1                1              1          U\n",
            "10    P180009           0                1              1          S\n",
            "11    P180010           1                0              0          S\n",
            "12    P180011           0                1              1          S\n",
            "Shape: (13, 5)\n"
          ]
        }
      ],
      "source": [
        "df = pd.read_csv('/content/drive/MyDrive/Machine Learning/Assignment 3/dataset/student-data.csv')\n",
        "pprint(df)\n",
        "print('Shape: {}'.format(df.shape))"
      ]
    },
    {
      "cell_type": "code",
      "execution_count": 12,
      "metadata": {
        "id": "Sy7iegkKH_Pw"
      },
      "outputs": [],
      "source": [
        "features = ['Marks > 50', 'Attendance > 50', 'Subjects > 20']\n",
        "X = df[features] # Features\n",
        "y = df['Grade(S/U)']"
      ]
    },
    {
      "cell_type": "code",
      "execution_count": 16,
      "metadata": {
        "id": "X06M4dCAICky"
      },
      "outputs": [],
      "source": [
        "X_train, X_test = train_test_split(X, test_size=0.6, shuffle=True, random_state=1) # 70% training and 30% test"
      ]
    },
    {
      "cell_type": "code",
      "execution_count": 17,
      "metadata": {
        "colab": {
          "base_uri": "https://localhost:8080/"
        },
        "id": "SrlbkReKIFDy",
        "outputId": "4f006cfd-f6ab-4832-a973-6ef38141b859"
      },
      "outputs": [
        {
          "output_type": "execute_result",
          "data": {
            "text/plain": [
              "array([0, 1, 0, 1, 0, 1, 0, 1, 0, 0, 0, 1, 0], dtype=int32)"
            ]
          },
          "metadata": {},
          "execution_count": 17
        }
      ],
      "source": [
        "kmeans = KMeans(n_clusters=2, random_state=0).fit(X)\n",
        "kmeans.labels_"
      ]
    },
    {
      "cell_type": "code",
      "execution_count": 18,
      "metadata": {
        "colab": {
          "base_uri": "https://localhost:8080/"
        },
        "id": "NKI8L4hxIZ5q",
        "outputId": "8a44a1e8-c9eb-4823-f767-2c2913168724"
      },
      "outputs": [
        {
          "output_type": "stream",
          "name": "stdout",
          "text": [
            "[0 1 0 1 0 1 0 1 0 0 0 1 0]\n"
          ]
        }
      ],
      "source": [
        "print(kmeans.predict(X))"
      ]
    },
    {
      "cell_type": "code",
      "execution_count": null,
      "metadata": {
        "id": "Tk-FJrghKg-G"
      },
      "outputs": [],
      "source": [
        ""
      ]
    }
  ],
  "metadata": {
    "colab": {
      "name": "Kmean.ipynb",
      "provenance": [],
      "include_colab_link": true
    },
    "kernelspec": {
      "display_name": "Python 3 (ipykernel)",
      "language": "python",
      "name": "python3"
    },
    "language_info": {
      "codemirror_mode": {
        "name": "ipython",
        "version": 3
      },
      "file_extension": ".py",
      "mimetype": "text/x-python",
      "name": "python",
      "nbconvert_exporter": "python",
      "pygments_lexer": "ipython3",
      "version": "3.9.7"
    }
  },
  "nbformat": 4,
  "nbformat_minor": 0
}