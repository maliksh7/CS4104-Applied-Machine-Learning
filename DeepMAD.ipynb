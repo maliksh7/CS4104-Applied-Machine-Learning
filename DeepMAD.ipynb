{
  "nbformat": 4,
  "nbformat_minor": 0,
  "metadata": {
    "colab": {
      "name": "DeepMAD.ipynb",
      "provenance": [],
      "collapsed_sections": [],
      "include_colab_link": true
    },
    "kernelspec": {
      "name": "python3",
      "display_name": "Python 3"
    },
    "language_info": {
      "name": "python"
    }
  },
  "cells": [
    {
      "cell_type": "markdown",
      "metadata": {
        "id": "view-in-github",
        "colab_type": "text"
      },
      "source": [
        "<a href=\"https://colab.research.google.com/github/maliksh7/CS4104-Applied-Machine-Learning/blob/main/DeepMAD.ipynb\" target=\"_parent\"><img src=\"https://colab.research.google.com/assets/colab-badge.svg\" alt=\"Open In Colab\"/></a>"
      ]
    },
    {
      "cell_type": "markdown",
      "source": [
        "# **DeepMAD - Malicious Network Activity Detection using Deep Learning**\n",
        "\n",
        "> ## Member Names: \n",
        "    Muhammad Saad Hassan, Mubariz Ahmad Khan \n",
        "\n",
        "> ## Roll Numbers: \n",
        "    P176137, P180010\n",
        "\n"
      ],
      "metadata": {
        "id": "cPR4m2opZLrA"
      }
    },
    {
      "cell_type": "code",
      "metadata": {
        "colab": {
          "base_uri": "https://localhost:8080/"
        },
        "id": "GJwqucJecxRc",
        "outputId": "66b386f6-821d-4673-e47a-cae4156ae5d2"
      },
      "source": [
        "# mounting google drive\n",
        "from google.colab import drive\n",
        "drive.mount('/content/drive')"
      ],
      "execution_count": null,
      "outputs": [
        {
          "output_type": "stream",
          "name": "stdout",
          "text": [
            "Mounted at /content/drive\n"
          ]
        }
      ]
    },
    {
      "cell_type": "code",
      "metadata": {
        "id": "FYugEGhdc2BC"
      },
      "source": [
        "# import packages and libraries\n",
        "import pandas as pd\n",
        "import keras\n",
        "from matplotlib import pyplot as plt\n",
        "import numpy as np\n",
        "import gzip\n",
        "%matplotlib inline\n",
        "from keras.models import Model\n",
        "from tensorflow.keras.optimizers import RMSprop\n",
        "from tensorflow.keras.layers import (\n",
        "    BatchNormalization, Input,Dense,Flatten,Dropout,Reshape,Conv2D,MaxPooling2D,UpSampling2D,Conv2DTranspose\n",
        ")\n",
        "\n",
        "from keras.models import Model,Sequential\n",
        "from keras.callbacks import ModelCheckpoint\n",
        "from tensorflow.keras.optimizers import Adadelta, RMSprop,SGD,Adam\n",
        "from keras import regularizers\n",
        "\n",
        "from keras import backend as K"
      ],
      "execution_count": null,
      "outputs": []
    },
    {
      "cell_type": "code",
      "metadata": {
        "id": "SPqROgznc2Hm"
      },
      "source": [
        "import matplotlib \n",
        "import matplotlib.pyplot as plt\n",
        "%matplotlib inline\n",
        "import numpy as np\n",
        "import pandas as pd\n",
        "import seaborn as sns\n",
        "from sklearn.model_selection import train_test_split\n",
        "from sklearn.tree import DecisionTreeClassifier\n",
        "from sklearn import metrics\n",
        "from sklearn.linear_model import LogisticRegression"
      ],
      "execution_count": null,
      "outputs": []
    },
    {
      "cell_type": "code",
      "metadata": {
        "id": "reF70bEyc2KF"
      },
      "source": [
        "# reading dataset from google drive\n",
        "new_df = pd.read_hdf('/content/drive/MyDrive/MNAD-FYP/MachineLearningCVE/Dataset-Analysis/all_data.h5')"
      ],
      "execution_count": null,
      "outputs": []
    },
    {
      "cell_type": "code",
      "metadata": {
        "id": "myHkyqk_etqz",
        "colab": {
          "base_uri": "https://localhost:8080/"
        },
        "outputId": "ae9d0a2c-abdf-4ac4-c3d2-e00bea358bb3"
      },
      "source": [
        "# info() will tell us the columns/ features and their respective Datatypes \n",
        "new_df.info()"
      ],
      "execution_count": null,
      "outputs": [
        {
          "output_type": "stream",
          "name": "stdout",
          "text": [
            "<class 'pandas.core.frame.DataFrame'>\n",
            "Int64Index: 2830743 entries, 0 to 2830742\n",
            "Data columns (total 80 columns):\n",
            " #   Column                        Dtype  \n",
            "---  ------                        -----  \n",
            " 0   Unnamed: 0                    int64  \n",
            " 1    Destination Port             int64  \n",
            " 2    Flow Duration                int64  \n",
            " 3    Total Fwd Packets            int64  \n",
            " 4    Total Backward Packets       int64  \n",
            " 5   Total Length of Fwd Packets   int64  \n",
            " 6    Total Length of Bwd Packets  int64  \n",
            " 7    Fwd Packet Length Max        int64  \n",
            " 8    Fwd Packet Length Min        int64  \n",
            " 9    Fwd Packet Length Mean       float64\n",
            " 10   Fwd Packet Length Std        float64\n",
            " 11  Bwd Packet Length Max         int64  \n",
            " 12   Bwd Packet Length Min        int64  \n",
            " 13   Bwd Packet Length Mean       float64\n",
            " 14   Bwd Packet Length Std        float64\n",
            " 15  Flow Bytes/s                  float64\n",
            " 16   Flow Packets/s               float64\n",
            " 17   Flow IAT Mean                float64\n",
            " 18   Flow IAT Std                 float64\n",
            " 19   Flow IAT Max                 int64  \n",
            " 20   Flow IAT Min                 int64  \n",
            " 21  Fwd IAT Total                 int64  \n",
            " 22   Fwd IAT Mean                 float64\n",
            " 23   Fwd IAT Std                  float64\n",
            " 24   Fwd IAT Max                  int64  \n",
            " 25   Fwd IAT Min                  int64  \n",
            " 26  Bwd IAT Total                 int64  \n",
            " 27   Bwd IAT Mean                 float64\n",
            " 28   Bwd IAT Std                  float64\n",
            " 29   Bwd IAT Max                  int64  \n",
            " 30   Bwd IAT Min                  int64  \n",
            " 31  Fwd PSH Flags                 int64  \n",
            " 32   Bwd PSH Flags                int64  \n",
            " 33   Fwd URG Flags                int64  \n",
            " 34   Bwd URG Flags                int64  \n",
            " 35   Fwd Header Length            int64  \n",
            " 36   Bwd Header Length            int64  \n",
            " 37  Fwd Packets/s                 float64\n",
            " 38   Bwd Packets/s                float64\n",
            " 39   Min Packet Length            int64  \n",
            " 40   Max Packet Length            int64  \n",
            " 41   Packet Length Mean           float64\n",
            " 42   Packet Length Std            float64\n",
            " 43   Packet Length Variance       float64\n",
            " 44  FIN Flag Count                int64  \n",
            " 45   SYN Flag Count               int64  \n",
            " 46   RST Flag Count               int64  \n",
            " 47   PSH Flag Count               int64  \n",
            " 48   ACK Flag Count               int64  \n",
            " 49   URG Flag Count               int64  \n",
            " 50   CWE Flag Count               int64  \n",
            " 51   ECE Flag Count               int64  \n",
            " 52   Down/Up Ratio                int64  \n",
            " 53   Average Packet Size          float64\n",
            " 54   Avg Fwd Segment Size         float64\n",
            " 55   Avg Bwd Segment Size         float64\n",
            " 56   Fwd Header Length.1          int64  \n",
            " 57  Fwd Avg Bytes/Bulk            int64  \n",
            " 58   Fwd Avg Packets/Bulk         int64  \n",
            " 59   Fwd Avg Bulk Rate            int64  \n",
            " 60   Bwd Avg Bytes/Bulk           int64  \n",
            " 61   Bwd Avg Packets/Bulk         int64  \n",
            " 62  Bwd Avg Bulk Rate             int64  \n",
            " 63  Subflow Fwd Packets           int64  \n",
            " 64   Subflow Fwd Bytes            int64  \n",
            " 65   Subflow Bwd Packets          int64  \n",
            " 66   Subflow Bwd Bytes            int64  \n",
            " 67  Init_Win_bytes_forward        int64  \n",
            " 68   Init_Win_bytes_backward      int64  \n",
            " 69   act_data_pkt_fwd             int64  \n",
            " 70   min_seg_size_forward         int64  \n",
            " 71  Active Mean                   float64\n",
            " 72   Active Std                   float64\n",
            " 73   Active Max                   int64  \n",
            " 74   Active Min                   int64  \n",
            " 75  Idle Mean                     float64\n",
            " 76   Idle Std                     float64\n",
            " 77   Idle Max                     int64  \n",
            " 78   Idle Min                     int64  \n",
            " 79   Label                        object \n",
            "dtypes: float64(24), int64(55), object(1)\n",
            "memory usage: 1.7+ GB\n"
          ]
        }
      ]
    },
    {
      "cell_type": "code",
      "metadata": {
        "id": "cdbH2gCRc2M2"
      },
      "source": [
        "# Replacing inf, - inf with nan values\n",
        "new_df.replace([np.inf, -np.inf], np.nan, inplace=True)\n",
        "# Dropping all the rows with nan values\n",
        "new_df.dropna(inplace=True)"
      ],
      "execution_count": null,
      "outputs": []
    },
    {
      "cell_type": "code",
      "metadata": {
        "id": "7cEXjM1HdFmu"
      },
      "source": [
        "tag = new_df.groupby(' Label')[' Label'].agg('count')\n",
        "tag"
      ],
      "execution_count": null,
      "outputs": []
    },
    {
      "cell_type": "code",
      "metadata": {
        "id": "T_wi2SBSe5Ti"
      },
      "source": [
        "from sklearn.preprocessing import LabelEncoder\n",
        "\n",
        "le = LabelEncoder()\n",
        "Y=le.fit_transform(new_df[' Label'])\n",
        "# len(Y)\n",
        "X=new_df.iloc[:,:-1]"
      ],
      "execution_count": null,
      "outputs": []
    },
    {
      "cell_type": "code",
      "metadata": {
        "id": "qRNa-EiKdFj9",
        "colab": {
          "base_uri": "https://localhost:8080/"
        },
        "outputId": "9cd973d6-4db3-4312-f8a0-d9a40347f12f"
      },
      "source": [
        "X=new_df.iloc[:,:-1]\n",
        "\n",
        "print(X.shape)\n",
        "X.dropna()\n",
        "print(X.shape,np.max(np.max(X).astype(np.float32)))\n",
        "count = -1\n",
        "for i in np.max(X).astype(np.float32):\n",
        "    count += 1\n",
        "    print(count, '---',i)"
      ],
      "execution_count": null,
      "outputs": [
        {
          "output_type": "stream",
          "name": "stdout",
          "text": [
            "(2827876, 79)\n",
            "(2827876, 79) 2071000064.0\n",
            "0 --- 692702.0\n",
            "1 --- 65535.0\n",
            "2 --- 120000000.0\n",
            "3 --- 219759.0\n",
            "4 --- 291922.0\n",
            "5 --- 12900000.0\n",
            "6 --- 655453056.0\n",
            "7 --- 24820.0\n",
            "8 --- 2325.0\n",
            "9 --- 5940.85693359375\n",
            "10 --- 7125.5966796875\n",
            "11 --- 19530.0\n",
            "12 --- 2896.0\n",
            "13 --- 5800.5\n",
            "14 --- 8194.66015625\n",
            "15 --- 2071000064.0\n",
            "16 --- 4000000.0\n",
            "17 --- 120000000.0\n",
            "18 --- 84800264.0\n",
            "19 --- 120000000.0\n",
            "20 --- 120000000.0\n",
            "21 --- 120000000.0\n",
            "22 --- 120000000.0\n",
            "23 --- 84602928.0\n",
            "24 --- 120000000.0\n",
            "25 --- 120000000.0\n",
            "26 --- 120000000.0\n",
            "27 --- 120000000.0\n",
            "28 --- 84418016.0\n",
            "29 --- 120000000.0\n",
            "30 --- 120000000.0\n",
            "31 --- 1.0\n",
            "32 --- 0.0\n",
            "33 --- 1.0\n",
            "34 --- 0.0\n",
            "35 --- 4644908.0\n",
            "36 --- 5838440.0\n",
            "37 --- 3000000.0\n",
            "38 --- 2000000.0\n",
            "39 --- 1448.0\n",
            "40 --- 24820.0\n",
            "41 --- 3337.142822265625\n",
            "42 --- 4731.5224609375\n",
            "43 --- 22400000.0\n",
            "44 --- 1.0\n",
            "45 --- 1.0\n",
            "46 --- 1.0\n",
            "47 --- 1.0\n",
            "48 --- 1.0\n",
            "49 --- 1.0\n",
            "50 --- 1.0\n",
            "51 --- 1.0\n",
            "52 --- 156.0\n",
            "53 --- 3893.333251953125\n",
            "54 --- 5940.85693359375\n",
            "55 --- 5800.5\n",
            "56 --- 4644908.0\n",
            "57 --- 0.0\n",
            "58 --- 0.0\n",
            "59 --- 0.0\n",
            "60 --- 0.0\n",
            "61 --- 0.0\n",
            "62 --- 0.0\n",
            "63 --- 219759.0\n",
            "64 --- 12870338.0\n",
            "65 --- 291922.0\n",
            "66 --- 655453056.0\n",
            "67 --- 65535.0\n",
            "68 --- 65535.0\n",
            "69 --- 213557.0\n",
            "70 --- 138.0\n",
            "71 --- 110000000.0\n",
            "72 --- 74200000.0\n",
            "73 --- 110000000.0\n",
            "74 --- 110000000.0\n",
            "75 --- 120000000.0\n",
            "76 --- 76900000.0\n",
            "77 --- 120000000.0\n",
            "78 --- 120000000.0\n"
          ]
        }
      ]
    },
    {
      "cell_type": "code",
      "metadata": {
        "id": "xQs5168RdFg0",
        "colab": {
          "base_uri": "https://localhost:8080/"
        },
        "outputId": "3553224e-e8ee-45fe-8bdd-8f9c34750df2"
      },
      "source": [
        "np.random.seed(0)\n",
        "# Train Test split (train-> 80%, test-> 20%)\n",
        "x_train, x_test, y_train, y_test = train_test_split(X, Y, test_size = 0.20, random_state = 42)\n",
        "print(x_train.shape,len(y_train),x_test.shape,len(y_test))\n",
        "x_train.columns"
      ],
      "execution_count": null,
      "outputs": [
        {
          "output_type": "stream",
          "name": "stdout",
          "text": [
            "(2262300, 79) 2262300 (565576, 79) 565576\n"
          ]
        },
        {
          "output_type": "execute_result",
          "data": {
            "text/plain": [
              "Index(['Unnamed: 0', ' Destination Port', ' Flow Duration',\n",
              "       ' Total Fwd Packets', ' Total Backward Packets',\n",
              "       'Total Length of Fwd Packets', ' Total Length of Bwd Packets',\n",
              "       ' Fwd Packet Length Max', ' Fwd Packet Length Min',\n",
              "       ' Fwd Packet Length Mean', ' Fwd Packet Length Std',\n",
              "       'Bwd Packet Length Max', ' Bwd Packet Length Min',\n",
              "       ' Bwd Packet Length Mean', ' Bwd Packet Length Std', 'Flow Bytes/s',\n",
              "       ' Flow Packets/s', ' Flow IAT Mean', ' Flow IAT Std', ' Flow IAT Max',\n",
              "       ' Flow IAT Min', 'Fwd IAT Total', ' Fwd IAT Mean', ' Fwd IAT Std',\n",
              "       ' Fwd IAT Max', ' Fwd IAT Min', 'Bwd IAT Total', ' Bwd IAT Mean',\n",
              "       ' Bwd IAT Std', ' Bwd IAT Max', ' Bwd IAT Min', 'Fwd PSH Flags',\n",
              "       ' Bwd PSH Flags', ' Fwd URG Flags', ' Bwd URG Flags',\n",
              "       ' Fwd Header Length', ' Bwd Header Length', 'Fwd Packets/s',\n",
              "       ' Bwd Packets/s', ' Min Packet Length', ' Max Packet Length',\n",
              "       ' Packet Length Mean', ' Packet Length Std', ' Packet Length Variance',\n",
              "       'FIN Flag Count', ' SYN Flag Count', ' RST Flag Count',\n",
              "       ' PSH Flag Count', ' ACK Flag Count', ' URG Flag Count',\n",
              "       ' CWE Flag Count', ' ECE Flag Count', ' Down/Up Ratio',\n",
              "       ' Average Packet Size', ' Avg Fwd Segment Size',\n",
              "       ' Avg Bwd Segment Size', ' Fwd Header Length.1', 'Fwd Avg Bytes/Bulk',\n",
              "       ' Fwd Avg Packets/Bulk', ' Fwd Avg Bulk Rate', ' Bwd Avg Bytes/Bulk',\n",
              "       ' Bwd Avg Packets/Bulk', 'Bwd Avg Bulk Rate', 'Subflow Fwd Packets',\n",
              "       ' Subflow Fwd Bytes', ' Subflow Bwd Packets', ' Subflow Bwd Bytes',\n",
              "       'Init_Win_bytes_forward', ' Init_Win_bytes_backward',\n",
              "       ' act_data_pkt_fwd', ' min_seg_size_forward', 'Active Mean',\n",
              "       ' Active Std', ' Active Max', ' Active Min', 'Idle Mean', ' Idle Std',\n",
              "       ' Idle Max', ' Idle Min'],\n",
              "      dtype='object')"
            ]
          },
          "metadata": {},
          "execution_count": 16
        }
      ]
    },
    {
      "cell_type": "code",
      "metadata": {
        "id": "_sjSQAdGdFej"
      },
      "source": [
        "# removing extra/ unnecessary columns/ features\n",
        "del new_df['Unnamed: 0']\n",
        "del new_df['Fwd Avg Bytes/Bulk']\n",
        "del new_df[' SYN Flag Count']\n",
        "del new_df['Bwd Avg Bulk Rate']\n",
        "del new_df[' RST Flag Count']\n",
        "del new_df[' Fwd Avg Packets/Bulk']\n",
        "del new_df[' Fwd Avg Bulk Rate']\n",
        "del new_df[' ECE Flag Count']\n",
        "del new_df[' CWE Flag Count']\n",
        "del new_df[' Bwd URG Flags']\n",
        "del new_df[' Bwd PSH Flags']\n",
        "del new_df[' Bwd Avg Packets/Bulk']\n",
        "del new_df[' Bwd Avg Bytes/Bulk']\n",
        "del new_df[' Bwd Packets/s']\n",
        "del new_df['Active Mean']\n",
        "del new_df[' Active Min']\n",
        "del new_df[' Total Length of Bwd Packets']\n",
        "del new_df[ ' Bwd IAT Std']\n",
        "del new_df[ ' Bwd IAT Mean']\n",
        "del new_df[' Active Std']\n",
        "del new_df[ ' Bwd IAT Min']\n",
        "del new_df[' Down/Up Ratio']\n",
        "del new_df[' Active Max']\n",
        "del new_df[' Fwd URG Flags']\n"
      ],
      "execution_count": null,
      "outputs": []
    },
    {
      "cell_type": "code",
      "metadata": {
        "colab": {
          "base_uri": "https://localhost:8080/"
        },
        "id": "NBk9O1OwdFb0",
        "outputId": "3406f54a-dd77-41ed-91c1-cabfc1dc7ac9"
      },
      "source": [
        "# checking multi-class label values(attacks/benign)\n",
        "new_df[' Label'].value_counts()"
      ],
      "execution_count": null,
      "outputs": [
        {
          "output_type": "execute_result",
          "data": {
            "text/plain": [
              "BENIGN                        2271320\n",
              "DoS Hulk                       230124\n",
              "PortScan                       158804\n",
              "DDoS                           128025\n",
              "DoS GoldenEye                   10293\n",
              "FTP-Patator                      7935\n",
              "SSH-Patator                      5897\n",
              "DoS slowloris                    5796\n",
              "DoS Slowhttptest                 5499\n",
              "Bot                              1956\n",
              "Web Attack � Brute Force         1507\n",
              "Web Attack � XSS                  652\n",
              "Infiltration                       36\n",
              "Web Attack � Sql Injection         21\n",
              "Heartbleed                         11\n",
              "Name:  Label, dtype: int64"
            ]
          },
          "metadata": {},
          "execution_count": 18
        }
      ]
    },
    {
      "cell_type": "code",
      "metadata": {
        "id": "FtL8A1PRdFY-"
      },
      "source": [
        "# applying label encoder as le\n",
        "new_df[' Label'] = le.fit_transform(new_df[' Label'])"
      ],
      "execution_count": null,
      "outputs": []
    },
    {
      "cell_type": "code",
      "metadata": {
        "colab": {
          "base_uri": "https://localhost:8080/"
        },
        "id": "SXlXG2I8dFWV",
        "outputId": "17a82395-a8a1-4d55-ad75-d223d7f1188a"
      },
      "source": [
        "new_df[' Label'].value_counts()"
      ],
      "execution_count": null,
      "outputs": [
        {
          "output_type": "execute_result",
          "data": {
            "text/plain": [
              "0     2271320\n",
              "4      230124\n",
              "10     158804\n",
              "2      128025\n",
              "3       10293\n",
              "7        7935\n",
              "11       5897\n",
              "6        5796\n",
              "5        5499\n",
              "1        1956\n",
              "12       1507\n",
              "14        652\n",
              "9          36\n",
              "13         21\n",
              "8          11\n",
              "Name:  Label, dtype: int64"
            ]
          },
          "metadata": {},
          "execution_count": 21
        }
      ]
    },
    {
      "cell_type": "code",
      "metadata": {
        "colab": {
          "base_uri": "https://localhost:8080/"
        },
        "id": "Z7t_F5wVdFTS",
        "outputId": "7f7cc476-3bdc-4201-df45-645dbd11e434"
      },
      "source": [
        "# Locate the value of multiclass label and select those with huge size (Label -> 0, 2, 4, 10)\n",
        "\n",
        "benign_df = new_df.loc[new_df[' Label'] == 0]\n",
        "print(benign_df.shape)\n",
        "\n",
        "DDos_df = new_df.loc[new_df[' Label'] == 2]\n",
        "print(DDos_df.shape)\n",
        "\n",
        "dos_hulk_df = new_df.loc[new_df[' Label'] == 4]\n",
        "print(dos_hulk_df.shape)\n",
        "\n",
        "portscan_df = new_df.loc[new_df[' Label'] == 10]\n",
        "print(portscan_df.shape)"
      ],
      "execution_count": null,
      "outputs": [
        {
          "output_type": "stream",
          "name": "stdout",
          "text": [
            "(2271320, 56)\n",
            "(128025, 56)\n",
            "(230124, 56)\n",
            "(158804, 56)\n"
          ]
        }
      ]
    },
    {
      "cell_type": "code",
      "metadata": {
        "id": "9Y3uB9XUdFQ0"
      },
      "source": [
        "# concat all the selected dataframes\n",
        "frames = [benign_df,DDos_df,dos_hulk_df,portscan_df]\n",
        "result = pd.concat(frames)"
      ],
      "execution_count": null,
      "outputs": []
    },
    {
      "cell_type": "code",
      "metadata": {
        "id": "OOOVwP7Ljixe"
      },
      "source": [
        "# Dropping all the rows with nan values\n",
        "result.replace([np.inf, -np.inf], np.nan, inplace=True)\n",
        "result.dropna(inplace=True)"
      ],
      "execution_count": null,
      "outputs": []
    },
    {
      "cell_type": "code",
      "metadata": {
        "id": "32CtMj9eiu0c"
      },
      "source": [
        "# saving selected dataframes in HDF5 Format\n",
        "filename = ('/content/drive/MyDrive/MNAD-FYP/MachineLearningCVE/Dataset-Analysis/4_Atack_pure_data.h5')\n",
        "result.to_hdf(filename, 'data', mode='w', format='table')"
      ],
      "execution_count": null,
      "outputs": []
    },
    {
      "cell_type": "code",
      "metadata": {
        "colab": {
          "base_uri": "https://localhost:8080/"
        },
        "id": "wP6ocidwdFOM",
        "outputId": "e7ef25a7-687e-4d96-9b0b-55a529d8b586"
      },
      "source": [
        "# shape of selected dataframe\n",
        "print(result.shape)\n",
        "print(2271320+128025+230124+158804)\n"
      ],
      "execution_count": null,
      "outputs": [
        {
          "output_type": "stream",
          "name": "stdout",
          "text": [
            "(2788273, 56)\n",
            "2788273\n"
          ]
        }
      ]
    },
    {
      "cell_type": "code",
      "metadata": {
        "colab": {
          "base_uri": "https://localhost:8080/"
        },
        "id": "JFCVjo0tj2So",
        "outputId": "6a65dc0c-52d7-44e0-df5b-f6bf71e39c14"
      },
      "source": [
        "result[' Label'].value_counts()"
      ],
      "execution_count": null,
      "outputs": [
        {
          "output_type": "execute_result",
          "data": {
            "text/plain": [
              "0     2271320\n",
              "4      230124\n",
              "10     158804\n",
              "2      128025\n",
              "Name:  Label, dtype: int64"
            ]
          },
          "metadata": {},
          "execution_count": 51
        }
      ]
    },
    {
      "cell_type": "code",
      "metadata": {
        "id": "L8vY41TLdFIs"
      },
      "source": [
        "from sklearn.preprocessing import LabelEncoder\n",
        "\n",
        "le = LabelEncoder()\n",
        "Y=le.fit_transform(result[' Label'])\n",
        "len(Y)\n",
        "X=result.iloc[:,:-1]"
      ],
      "execution_count": null,
      "outputs": []
    },
    {
      "cell_type": "code",
      "metadata": {
        "colab": {
          "base_uri": "https://localhost:8080/"
        },
        "id": "DFOTHfuudFFs",
        "outputId": "4054fdeb-666b-4062-fec3-249f3a1808b0"
      },
      "source": [
        "x_train, x_test, y_train, y_test = train_test_split(X, Y, test_size = 0.20, random_state = 42)\n",
        "print(x_train.shape,len(y_train),x_test.shape,len(y_test))\n",
        "len(x_train.columns)"
      ],
      "execution_count": null,
      "outputs": [
        {
          "output_type": "stream",
          "name": "stdout",
          "text": [
            "(2230618, 55) 2230618 (557655, 55) 557655\n"
          ]
        },
        {
          "output_type": "execute_result",
          "data": {
            "text/plain": [
              "55"
            ]
          },
          "metadata": {},
          "execution_count": 53
        }
      ]
    },
    {
      "cell_type": "markdown",
      "source": [
        "## Decision Tree Classifier"
      ],
      "metadata": {
        "id": "8AcA4C25eroq"
      }
    },
    {
      "cell_type": "code",
      "metadata": {
        "colab": {
          "base_uri": "https://localhost:8080/"
        },
        "id": "THRpUrhvdFC0",
        "outputId": "043bf078-ec3a-4d7d-9599-a7e382fe6cbd"
      },
      "source": [
        "print(x_train.shape, y_train.shape)\n",
        "dtc = DecisionTreeClassifier(max_depth = 15)\n",
        "dtc = dtc.fit(x_train,y_train)\n",
        "\n",
        "y_pred = dtc.predict(x_test)\n",
        "y_pred\n",
        "\n",
        "from sklearn.metrics import accuracy_score,f1_score\n",
        "print(dtc.score(x_test, y_test))\n",
        "print(accuracy_score(y_test, y_pred))\n",
        "print(f1_score(y_test, y_pred, average='macro'))"
      ],
      "execution_count": null,
      "outputs": [
        {
          "output_type": "stream",
          "name": "stdout",
          "text": [
            "(2230618, 55) (2230618,)\n",
            "0.9993006428705921\n",
            "0.9993006428705921\n",
            "0.9985072223035766\n"
          ]
        }
      ]
    },
    {
      "cell_type": "code",
      "metadata": {
        "id": "E0Cf3z4rpQXm"
      },
      "source": [
        "validation_accuracy = []\n",
        "for depth in range(1,15):\n",
        "    dt_model = DecisionTreeClassifier(max_depth=depth, random_state=10)\n",
        "    dt_model.fit(x_train, y_train)\n",
        "    train_accuracy.append(dt_model.score(x_train, y_train))\n",
        "    validation_accuracy.append(dt_model.score(x_test, y_test))\n",
        "print(len(train_accuracy))\n",
        "print(len(validation_accuracy))\n",
        "frame = pd.DataFrame({'max_depth':range(1,15), 'train_acc':train_accuracy, 'valid_acc':validation_accuracy})"
      ],
      "execution_count": null,
      "outputs": []
    },
    {
      "cell_type": "markdown",
      "source": [
        "## Random Forest CLassifier"
      ],
      "metadata": {
        "id": "KwufEZS3gNk2"
      }
    },
    {
      "cell_type": "code",
      "metadata": {
        "colab": {
          "base_uri": "https://localhost:8080/"
        },
        "id": "aWROMiGqdE_0",
        "outputId": "d3944d96-8c88-4ac3-a5ef-0e619d7c4e22"
      },
      "source": [
        "print('---------------------------Random Forest CLassifier------------------')\n",
        "from sklearn.ensemble import RandomForestClassifier\n",
        "model = RandomForestClassifier(n_estimators =5)\n",
        "model = model.fit(x_train, y_train)\n",
        "rfy_pred = model.predict(x_test)\n",
        "acc = metrics.accuracy_score(y_test, rfy_pred)\n",
        "print(f1_score(y_test, rfy_pred, average='macro'), 'f1')\n",
        "print(model.score(x_test,y_test))"
      ],
      "execution_count": null,
      "outputs": [
        {
          "output_type": "stream",
          "name": "stdout",
          "text": [
            "---------------------------Random Forest CLassifier------------------\n",
            "0.9981037692108208 f1\n",
            "0.9991464256574405\n"
          ]
        }
      ]
    },
    {
      "cell_type": "code",
      "metadata": {
        "colab": {
          "base_uri": "https://localhost:8080/"
        },
        "id": "n8ZeL6VynuNn",
        "outputId": "eb491108-244d-4265-8f15-2aa5c4af47fd"
      },
      "source": [
        "print(acc)"
      ],
      "execution_count": null,
      "outputs": [
        {
          "output_type": "stream",
          "name": "stdout",
          "text": [
            "0.9991464256574405\n"
          ]
        }
      ]
    },
    {
      "cell_type": "markdown",
      "source": [
        "## Extra Trees Classifier"
      ],
      "metadata": {
        "id": "UIg0_UidgWN7"
      }
    },
    {
      "cell_type": "code",
      "metadata": {
        "colab": {
          "base_uri": "https://localhost:8080/"
        },
        "id": "9QQ7T9RhdE88",
        "outputId": "24a1be21-b449-40c5-bef9-e07131480362"
      },
      "source": [
        "from sklearn.ensemble import ExtraTreesClassifier\n",
        "model = ExtraTreesClassifier()\n",
        "model.fit(x_train,y_train)"
      ],
      "execution_count": null,
      "outputs": [
        {
          "output_type": "execute_result",
          "data": {
            "text/plain": [
              "ExtraTreesClassifier(bootstrap=False, ccp_alpha=0.0, class_weight=None,\n",
              "                     criterion='gini', max_depth=None, max_features='auto',\n",
              "                     max_leaf_nodes=None, max_samples=None,\n",
              "                     min_impurity_decrease=0.0, min_impurity_split=None,\n",
              "                     min_samples_leaf=1, min_samples_split=2,\n",
              "                     min_weight_fraction_leaf=0.0, n_estimators=100,\n",
              "                     n_jobs=None, oob_score=False, random_state=None, verbose=0,\n",
              "                     warm_start=False)"
            ]
          },
          "metadata": {},
          "execution_count": 26
        }
      ]
    },
    {
      "cell_type": "code",
      "metadata": {
        "colab": {
          "base_uri": "https://localhost:8080/"
        },
        "id": "1q6gLwgvdE6E",
        "outputId": "e7ed76c8-e612-424a-e60c-e0ce8f4cbd21"
      },
      "source": [
        "rfy_pred = model.predict(x_test)\n",
        "acc = metrics.accuracy_score(y_test, rfy_pred)\n",
        "print(acc)\n",
        "print(f1_score(y_test, rfy_pred, average='macro'), 'f1')\n",
        "print(model.score(x_test,y_test))"
      ],
      "execution_count": null,
      "outputs": [
        {
          "output_type": "stream",
          "name": "stdout",
          "text": [
            "0.9989545507527056\n",
            "0.9977493432537416 f1\n",
            "0.9989545507527056\n"
          ]
        }
      ]
    },
    {
      "cell_type": "markdown",
      "source": [
        "## Gaussian Naive Bayes"
      ],
      "metadata": {
        "id": "mCLUqi-Qgc5e"
      }
    },
    {
      "cell_type": "code",
      "metadata": {
        "id": "OgHqKMl_dE3b"
      },
      "source": [
        "from sklearn.naive_bayes import GaussianNB\n",
        "gnb = GaussianNB()\n",
        "gnb = gnb.fit(x_train, y_train)\n",
        "rfy_pred = gnb.predict(x_test)\n"
      ],
      "execution_count": null,
      "outputs": []
    },
    {
      "cell_type": "code",
      "metadata": {
        "colab": {
          "base_uri": "https://localhost:8080/"
        },
        "id": "s-fTW9oudE00",
        "outputId": "15bf9b78-81fa-49fb-8977-6ad5102096c2"
      },
      "source": [
        "acc = metrics.accuracy_score(y_test, rfy_pred)\n",
        "print(f1_score(y_test, rfy_pred, average='macro'), 'f1')\n",
        "print(model.score(x_test,y_test))"
      ],
      "execution_count": null,
      "outputs": [
        {
          "output_type": "stream",
          "name": "stdout",
          "text": [
            "0.350347153996948 f1\n",
            "0.9989545507527056\n"
          ]
        }
      ]
    },
    {
      "cell_type": "markdown",
      "source": [
        "## Logistic Regression"
      ],
      "metadata": {
        "id": "qqNfKj6bg1xb"
      }
    },
    {
      "cell_type": "code",
      "metadata": {
        "colab": {
          "base_uri": "https://localhost:8080/"
        },
        "id": "x_MY_ZjmdEvj",
        "outputId": "d4e8719c-2670-4ba9-af09-5a3e4343dedc"
      },
      "source": [
        "clf_logistic = LogisticRegression()\n",
        "clf_logistic = clf_logistic.fit(x_train, y_train)\n",
        "rfy_pred = clf_logistic.predict(x_test)"
      ],
      "execution_count": null,
      "outputs": [
        {
          "output_type": "stream",
          "name": "stderr",
          "text": [
            "/usr/local/lib/python3.7/dist-packages/sklearn/linear_model/_logistic.py:940: ConvergenceWarning: lbfgs failed to converge (status=1):\n",
            "STOP: TOTAL NO. of ITERATIONS REACHED LIMIT.\n",
            "\n",
            "Increase the number of iterations (max_iter) or scale the data as shown in:\n",
            "    https://scikit-learn.org/stable/modules/preprocessing.html\n",
            "Please also refer to the documentation for alternative solver options:\n",
            "    https://scikit-learn.org/stable/modules/linear_model.html#logistic-regression\n",
            "  extra_warning_msg=_LOGISTIC_SOLVER_CONVERGENCE_MSG)\n"
          ]
        }
      ]
    },
    {
      "cell_type": "code",
      "metadata": {
        "colab": {
          "base_uri": "https://localhost:8080/"
        },
        "id": "93P3AdCQdEtT",
        "outputId": "1a057cd7-268f-4988-eb05-05efaf0e56bb"
      },
      "source": [
        "# acc = metrics.accuracy_score(y_test, rfy_pred)\n",
        "print(f1_score(y_test, rfy_pred, average='macro'), 'f1')\n",
        "print(clf_logistic.score(x_test,y_test))"
      ],
      "execution_count": null,
      "outputs": [
        {
          "output_type": "stream",
          "name": "stdout",
          "text": [
            "0.5940608963857186 f1\n",
            "0.876486358052918\n"
          ]
        }
      ]
    },
    {
      "cell_type": "markdown",
      "source": [
        "## Multi-Layered Perceptron (MLP)"
      ],
      "metadata": {
        "id": "sbJTUqbmhP3I"
      }
    },
    {
      "cell_type": "code",
      "metadata": {
        "colab": {
          "base_uri": "https://localhost:8080/"
        },
        "id": "1r_B8vmOYoG0",
        "outputId": "9b7d7344-6a48-4ba7-9885-a3705937131a"
      },
      "source": [
        "df = pd.read_hdf('/content/drive/MyDrive/MNAD-FYP/MachineLearningCVE/Dataset-Analysis/800k-Dos-DDos-PS-Benign.h5')\n",
        "df[' Label'].value_counts()"
      ],
      "execution_count": null,
      "outputs": [
        {
          "output_type": "execute_result",
          "data": {
            "text/plain": [
              "0    500000\n",
              "3    100000\n",
              "2    100000\n",
              "1    100000\n",
              "Name:  Label, dtype: int64"
            ]
          },
          "metadata": {},
          "execution_count": 19
        }
      ]
    },
    {
      "cell_type": "code",
      "metadata": {
        "id": "jGDgu2bwgynD"
      },
      "source": [
        "df.head(10)"
      ],
      "execution_count": null,
      "outputs": []
    },
    {
      "cell_type": "code",
      "metadata": {
        "colab": {
          "base_uri": "https://localhost:8080/"
        },
        "id": "DKCvaiJRZI1M",
        "outputId": "5f8ea08c-054a-4b34-e4c0-7b447ac9f8ec"
      },
      "source": [
        "del df['Unnamed: 0']\n",
        "df.columns"
      ],
      "execution_count": null,
      "outputs": [
        {
          "output_type": "execute_result",
          "data": {
            "text/plain": [
              "Index([' Destination Port', ' Flow Duration', ' Total Fwd Packets',\n",
              "       ' Total Backward Packets', 'Total Length of Fwd Packets',\n",
              "       ' Fwd Packet Length Max', ' Fwd Packet Length Min',\n",
              "       ' Fwd Packet Length Mean', ' Fwd Packet Length Std',\n",
              "       'Bwd Packet Length Max', ' Bwd Packet Length Min',\n",
              "       ' Bwd Packet Length Mean', ' Bwd Packet Length Std', 'Flow Bytes/s',\n",
              "       ' Flow Packets/s', ' Flow IAT Mean', ' Flow IAT Std', ' Flow IAT Max',\n",
              "       ' Flow IAT Min', 'Fwd IAT Total', ' Fwd IAT Mean', ' Fwd IAT Std',\n",
              "       ' Fwd IAT Max', ' Fwd IAT Min', 'Bwd IAT Total', ' Bwd IAT Max',\n",
              "       'Fwd PSH Flags', ' Fwd Header Length', ' Bwd Header Length',\n",
              "       'Fwd Packets/s', ' Min Packet Length', ' Max Packet Length',\n",
              "       ' Packet Length Mean', ' Packet Length Std', ' Packet Length Variance',\n",
              "       'FIN Flag Count', ' PSH Flag Count', ' ACK Flag Count',\n",
              "       ' URG Flag Count', ' Average Packet Size', ' Avg Fwd Segment Size',\n",
              "       ' Avg Bwd Segment Size', ' Fwd Header Length.1', 'Subflow Fwd Packets',\n",
              "       ' Subflow Fwd Bytes', ' Subflow Bwd Packets', ' Subflow Bwd Bytes',\n",
              "       'Init_Win_bytes_forward', ' Init_Win_bytes_backward',\n",
              "       ' act_data_pkt_fwd', ' min_seg_size_forward', 'Idle Mean', ' Idle Std',\n",
              "       ' Idle Max', ' Idle Min', ' Label'],\n",
              "      dtype='object')"
            ]
          },
          "metadata": {},
          "execution_count": 20
        }
      ]
    },
    {
      "cell_type": "code",
      "metadata": {
        "id": "Tu1hXGp2ZROC"
      },
      "source": [
        "from sklearn.preprocessing import LabelEncoder\n",
        "\n",
        "df.replace([np.inf, -np.inf], np.nan, inplace=True)\n",
        "# Dropping all the rows with nan values\n",
        "df.dropna(inplace=True)\n",
        "\n",
        "# le = LabelEncoder()\n",
        "Y=df[' Label']\n",
        "# len(Y)\n",
        "X=df.iloc[:,:-1]"
      ],
      "execution_count": null,
      "outputs": []
    },
    {
      "cell_type": "code",
      "metadata": {
        "colab": {
          "base_uri": "https://localhost:8080/"
        },
        "id": "q6BuX0K4ZRRM",
        "outputId": "d7483d9b-6f36-46ee-df83-62ebf5987feb"
      },
      "source": [
        "\n",
        "\n",
        "x_train, x_test, y_train, y_test = train_test_split(X, Y, test_size = 0.35, random_state = 42)\n",
        "print(x_train.shape,len(y_train),x_test.shape,len(y_test))\n",
        "len(x_train.columns)"
      ],
      "execution_count": null,
      "outputs": [
        {
          "output_type": "stream",
          "name": "stdout",
          "text": [
            "(520000, 55) 520000 (280000, 55) 280000\n"
          ]
        },
        {
          "output_type": "execute_result",
          "data": {
            "text/plain": [
              "55"
            ]
          },
          "metadata": {},
          "execution_count": 23
        }
      ]
    },
    {
      "cell_type": "code",
      "metadata": {
        "colab": {
          "base_uri": "https://localhost:8080/"
        },
        "id": "xwhvIT9XZRTy",
        "outputId": "9eb4ddf0-d993-4522-be7c-db1e0d6d7f6a"
      },
      "source": [
        "df[' Label'].value_counts()"
      ],
      "execution_count": null,
      "outputs": [
        {
          "output_type": "execute_result",
          "data": {
            "text/plain": [
              "0    500000\n",
              "3    100000\n",
              "2    100000\n",
              "1    100000\n",
              "Name:  Label, dtype: int64"
            ]
          },
          "metadata": {},
          "execution_count": 12
        }
      ]
    },
    {
      "cell_type": "code",
      "metadata": {
        "id": "T39DBkSedEn8"
      },
      "source": [
        "# Imports\n",
        "import tensorflow\n",
        "# from tensorflow.keras.datasets import mnist\n",
        "from tensorflow.keras.models import Sequential\n",
        "from tensorflow.keras.layers import Dense\n",
        "from tensorflow.keras.utils import to_categorical\n",
        "from tensorflow import keras\n",
        "from tensorflow.keras import layers\n",
        "\n",
        "# Configuration options\n",
        "feature_vector_length = 55\n",
        "num_classes = 4\n",
        "\n",
        " # Y_train, Y_test\n",
        "\n",
        "Y_train = to_categorical(y_train, num_classes)\n",
        "Y_test = to_categorical(y_test, num_classes)\n",
        "\n"
      ],
      "execution_count": null,
      "outputs": []
    },
    {
      "cell_type": "code",
      "metadata": {
        "colab": {
          "base_uri": "https://localhost:8080/"
        },
        "id": "lvCA2RSeM2lJ",
        "outputId": "61bdb895-f867-4c02-fd86-e65084a4b67d"
      },
      "source": [
        "num_classes"
      ],
      "execution_count": null,
      "outputs": [
        {
          "output_type": "execute_result",
          "data": {
            "text/plain": [
              "4"
            ]
          },
          "metadata": {},
          "execution_count": 68
        }
      ]
    },
    {
      "cell_type": "code",
      "metadata": {
        "colab": {
          "base_uri": "https://localhost:8080/"
        },
        "id": "LU4Obm1VBpLQ",
        "outputId": "fb5a192c-678d-4451-dc8d-870476b316b1"
      },
      "source": [
        "# Set the input shape\n",
        "input_shape = (feature_vector_length,)\n",
        "print(f'Feature shape: {input_shape}')\n",
        "\n",
        "# Create the model\n",
        "model = Sequential()\n",
        "# adding input shape\n",
        "model.add(Input(shape=(55 )))\n",
        "\n",
        "model.add(Dense(28, activation='relu'))\n",
        "model.add(Dropout(0.2))\n",
        "\n",
        "model.add(Dense(14, activation='relu'))\n",
        "model.add(Dropout(0.2))\n",
        "\n",
        "model.add(Dense(7, activation='relu'))\n",
        "model.add(Dropout(0.2))\n",
        "\n",
        "model.add(Dense(num_classes, activation='softmax'))\n"
      ],
      "execution_count": null,
      "outputs": [
        {
          "output_type": "stream",
          "name": "stdout",
          "text": [
            "Feature shape: (55,)\n"
          ]
        }
      ]
    },
    {
      "cell_type": "code",
      "source": [
        "# model.summary() -> will tell model trainable/ non-trainable parameters, droupout and outputshape of each layer.\n",
        "model.summary()"
      ],
      "metadata": {
        "colab": {
          "base_uri": "https://localhost:8080/"
        },
        "id": "T-Vfyy31cyiA",
        "outputId": "66621c34-e7a2-4e9a-acb3-e0d645fec655"
      },
      "execution_count": null,
      "outputs": [
        {
          "output_type": "stream",
          "name": "stdout",
          "text": [
            "Model: \"sequential\"\n",
            "_________________________________________________________________\n",
            " Layer (type)                Output Shape              Param #   \n",
            "=================================================================\n",
            " dense (Dense)               (None, 28)                1568      \n",
            "                                                                 \n",
            " dropout (Dropout)           (None, 28)                0         \n",
            "                                                                 \n",
            " dense_1 (Dense)             (None, 14)                406       \n",
            "                                                                 \n",
            " dropout_1 (Dropout)         (None, 14)                0         \n",
            "                                                                 \n",
            " dense_2 (Dense)             (None, 7)                 105       \n",
            "                                                                 \n",
            " dropout_2 (Dropout)         (None, 7)                 0         \n",
            "                                                                 \n",
            " dense_3 (Dense)             (None, 4)                 32        \n",
            "                                                                 \n",
            "=================================================================\n",
            "Total params: 2,111\n",
            "Trainable params: 2,111\n",
            "Non-trainable params: 0\n",
            "_________________________________________________________________\n"
          ]
        }
      ]
    },
    {
      "cell_type": "code",
      "metadata": {
        "id": "hWPudv53FjDd",
        "colab": {
          "base_uri": "https://localhost:8080/"
        },
        "outputId": "346c759d-62bf-429e-df19-f0cb98a8c432"
      },
      "source": [
        "type(x_train)"
      ],
      "execution_count": null,
      "outputs": [
        {
          "output_type": "execute_result",
          "data": {
            "text/plain": [
              "pandas.core.frame.DataFrame"
            ]
          },
          "metadata": {},
          "execution_count": 30
        }
      ]
    },
    {
      "cell_type": "code",
      "metadata": {
        "colab": {
          "base_uri": "https://localhost:8080/"
        },
        "id": "X7xreb0XBpN2",
        "outputId": "098b2bac-2dff-4b2a-bed1-6c17669b6ce1"
      },
      "source": [
        "# Configure the model and start training\n",
        "model.compile(loss='categorical_crossentropy', optimizer='adam', metrics=['accuracy', 'mse'])\n",
        "model.fit(x_train, Y_train, epochs=100, batch_size=64, verbose=1, validation_data=(x_test, Y_test))\n",
        "\n",
        "# Test the model after training\n",
        "test_results = model.evaluate(x_test, Y_test, verbose=1)\n",
        "print(f'Test results - Loss: {test_results[0]} - Accuracy: {test_results[1]}%')"
      ],
      "execution_count": null,
      "outputs": [
        {
          "output_type": "stream",
          "name": "stdout",
          "text": [
            "Epoch 1/100\n",
            "8125/8125 [==============================] - 20s 2ms/step - loss: 0.1034 - accuracy: 0.9702 - mse: 0.0116 - val_loss: 0.0392 - val_accuracy: 0.9916 - val_mse: 0.0034\n",
            "Epoch 2/100\n",
            "8125/8125 [==============================] - 20s 2ms/step - loss: 0.0932 - accuracy: 0.9732 - mse: 0.0104 - val_loss: 0.0365 - val_accuracy: 0.9927 - val_mse: 0.0031\n",
            "Epoch 3/100\n",
            "8125/8125 [==============================] - 22s 3ms/step - loss: 0.0871 - accuracy: 0.9750 - mse: 0.0098 - val_loss: 0.0503 - val_accuracy: 0.9939 - val_mse: 0.0026\n",
            "Epoch 4/100\n",
            "8125/8125 [==============================] - 21s 3ms/step - loss: 0.0865 - accuracy: 0.9752 - mse: 0.0097 - val_loss: 0.0291 - val_accuracy: 0.9934 - val_mse: 0.0026\n",
            "Epoch 5/100\n",
            "8125/8125 [==============================] - 22s 3ms/step - loss: 0.0808 - accuracy: 0.9774 - mse: 0.0089 - val_loss: 0.0250 - val_accuracy: 0.9935 - val_mse: 0.0026\n",
            "Epoch 6/100\n",
            "8125/8125 [==============================] - 20s 2ms/step - loss: 0.0779 - accuracy: 0.9782 - mse: 0.0087 - val_loss: 0.0280 - val_accuracy: 0.9932 - val_mse: 0.0025\n",
            "Epoch 7/100\n",
            "8125/8125 [==============================] - 21s 3ms/step - loss: 0.0758 - accuracy: 0.9786 - mse: 0.0084 - val_loss: 0.0258 - val_accuracy: 0.9937 - val_mse: 0.0025\n",
            "Epoch 8/100\n",
            "8125/8125 [==============================] - 20s 3ms/step - loss: 0.0767 - accuracy: 0.9791 - mse: 0.0083 - val_loss: 0.0277 - val_accuracy: 0.9937 - val_mse: 0.0025\n",
            "Epoch 9/100\n",
            "8125/8125 [==============================] - 20s 2ms/step - loss: 0.0761 - accuracy: 0.9792 - mse: 0.0083 - val_loss: 0.0261 - val_accuracy: 0.9936 - val_mse: 0.0025\n",
            "Epoch 10/100\n",
            "8125/8125 [==============================] - 21s 3ms/step - loss: 0.0747 - accuracy: 0.9799 - mse: 0.0080 - val_loss: 0.0251 - val_accuracy: 0.9938 - val_mse: 0.0024\n",
            "Epoch 11/100\n",
            "8125/8125 [==============================] - 20s 3ms/step - loss: 0.0750 - accuracy: 0.9795 - mse: 0.0082 - val_loss: 0.0251 - val_accuracy: 0.9928 - val_mse: 0.0027\n",
            "Epoch 12/100\n",
            "8125/8125 [==============================] - 20s 2ms/step - loss: 0.0700 - accuracy: 0.9805 - mse: 0.0077 - val_loss: 0.0383 - val_accuracy: 0.9933 - val_mse: 0.0026\n",
            "Epoch 13/100\n",
            "8125/8125 [==============================] - 21s 3ms/step - loss: 0.0730 - accuracy: 0.9795 - mse: 0.0081 - val_loss: 0.0238 - val_accuracy: 0.9935 - val_mse: 0.0024\n",
            "Epoch 14/100\n",
            "8125/8125 [==============================] - 20s 2ms/step - loss: 0.0788 - accuracy: 0.9777 - mse: 0.0087 - val_loss: 0.0257 - val_accuracy: 0.9944 - val_mse: 0.0023\n",
            "Epoch 15/100\n",
            "8125/8125 [==============================] - 20s 2ms/step - loss: 0.0749 - accuracy: 0.9784 - mse: 0.0084 - val_loss: 0.0386 - val_accuracy: 0.9944 - val_mse: 0.0023\n",
            "Epoch 16/100\n",
            "8125/8125 [==============================] - 21s 3ms/step - loss: 0.0775 - accuracy: 0.9783 - mse: 0.0085 - val_loss: 0.0256 - val_accuracy: 0.9945 - val_mse: 0.0026\n",
            "Epoch 17/100\n",
            "8125/8125 [==============================] - 20s 3ms/step - loss: 0.0786 - accuracy: 0.9782 - mse: 0.0086 - val_loss: 0.0242 - val_accuracy: 0.9941 - val_mse: 0.0025\n",
            "Epoch 18/100\n",
            "8125/8125 [==============================] - 20s 2ms/step - loss: 0.0756 - accuracy: 0.9787 - mse: 0.0084 - val_loss: 0.0326 - val_accuracy: 0.9934 - val_mse: 0.0029\n",
            "Epoch 19/100\n",
            "8125/8125 [==============================] - 19s 2ms/step - loss: 0.0762 - accuracy: 0.9783 - mse: 0.0085 - val_loss: 0.0272 - val_accuracy: 0.9940 - val_mse: 0.0026\n",
            "Epoch 20/100\n",
            "8125/8125 [==============================] - 19s 2ms/step - loss: 0.0749 - accuracy: 0.9791 - mse: 0.0083 - val_loss: 0.0248 - val_accuracy: 0.9942 - val_mse: 0.0025\n",
            "Epoch 21/100\n",
            "8125/8125 [==============================] - 19s 2ms/step - loss: 0.0787 - accuracy: 0.9789 - mse: 0.0084 - val_loss: 0.0259 - val_accuracy: 0.9909 - val_mse: 0.0029\n",
            "Epoch 22/100\n",
            "8125/8125 [==============================] - 20s 3ms/step - loss: 0.0781 - accuracy: 0.9787 - mse: 0.0085 - val_loss: 0.0289 - val_accuracy: 0.9897 - val_mse: 0.0037\n",
            "Epoch 23/100\n",
            "8125/8125 [==============================] - 20s 2ms/step - loss: 0.0755 - accuracy: 0.9793 - mse: 0.0082 - val_loss: 0.0273 - val_accuracy: 0.9934 - val_mse: 0.0028\n",
            "Epoch 24/100\n",
            "8125/8125 [==============================] - 20s 3ms/step - loss: 0.0777 - accuracy: 0.9800 - mse: 0.0079 - val_loss: 0.0247 - val_accuracy: 0.9929 - val_mse: 0.0025\n",
            "Epoch 25/100\n",
            "8125/8125 [==============================] - 21s 3ms/step - loss: 0.0709 - accuracy: 0.9805 - mse: 0.0077 - val_loss: 0.0252 - val_accuracy: 0.9916 - val_mse: 0.0028\n",
            "Epoch 26/100\n",
            "8125/8125 [==============================] - 21s 3ms/step - loss: 0.0741 - accuracy: 0.9797 - mse: 0.0081 - val_loss: 0.0242 - val_accuracy: 0.9934 - val_mse: 0.0024\n",
            "Epoch 27/100\n",
            "8125/8125 [==============================] - 20s 2ms/step - loss: 0.0703 - accuracy: 0.9807 - mse: 0.0076 - val_loss: 0.0221 - val_accuracy: 0.9945 - val_mse: 0.0021\n",
            "Epoch 28/100\n",
            "8125/8125 [==============================] - 21s 3ms/step - loss: 0.0746 - accuracy: 0.9793 - mse: 0.0082 - val_loss: 0.0313 - val_accuracy: 0.9917 - val_mse: 0.0030\n",
            "Epoch 29/100\n",
            "8125/8125 [==============================] - 20s 2ms/step - loss: 0.0752 - accuracy: 0.9800 - mse: 0.0079 - val_loss: 0.0310 - val_accuracy: 0.9942 - val_mse: 0.0025\n",
            "Epoch 30/100\n",
            "8125/8125 [==============================] - 21s 3ms/step - loss: 0.0737 - accuracy: 0.9809 - mse: 0.0076 - val_loss: 0.0261 - val_accuracy: 0.9934 - val_mse: 0.0026\n",
            "Epoch 31/100\n",
            "8125/8125 [==============================] - 19s 2ms/step - loss: 0.0721 - accuracy: 0.9802 - mse: 0.0079 - val_loss: 0.0475 - val_accuracy: 0.9889 - val_mse: 0.0034\n",
            "Epoch 32/100\n",
            "8125/8125 [==============================] - 21s 3ms/step - loss: 0.0716 - accuracy: 0.9806 - mse: 0.0077 - val_loss: 0.0250 - val_accuracy: 0.9937 - val_mse: 0.0027\n",
            "Epoch 33/100\n",
            "8125/8125 [==============================] - 20s 2ms/step - loss: 0.0724 - accuracy: 0.9801 - mse: 0.0079 - val_loss: 0.0273 - val_accuracy: 0.9901 - val_mse: 0.0030\n",
            "Epoch 34/100\n",
            "8125/8125 [==============================] - 20s 2ms/step - loss: 0.0709 - accuracy: 0.9803 - mse: 0.0078 - val_loss: 0.0258 - val_accuracy: 0.9902 - val_mse: 0.0030\n",
            "Epoch 35/100\n",
            "8125/8125 [==============================] - 20s 2ms/step - loss: 0.0764 - accuracy: 0.9809 - mse: 0.0076 - val_loss: 0.0254 - val_accuracy: 0.9899 - val_mse: 0.0030\n",
            "Epoch 36/100\n",
            "8125/8125 [==============================] - 19s 2ms/step - loss: 0.0703 - accuracy: 0.9805 - mse: 0.0078 - val_loss: 0.0245 - val_accuracy: 0.9907 - val_mse: 0.0028\n",
            "Epoch 37/100\n",
            "8125/8125 [==============================] - 21s 3ms/step - loss: 0.0725 - accuracy: 0.9809 - mse: 0.0076 - val_loss: 0.0285 - val_accuracy: 0.9892 - val_mse: 0.0034\n",
            "Epoch 38/100\n",
            "8125/8125 [==============================] - 21s 3ms/step - loss: 0.0710 - accuracy: 0.9802 - mse: 0.0077 - val_loss: 0.0196 - val_accuracy: 0.9949 - val_mse: 0.0019\n",
            "Epoch 39/100\n",
            "8125/8125 [==============================] - 20s 2ms/step - loss: 0.0740 - accuracy: 0.9811 - mse: 0.0074 - val_loss: 0.0309 - val_accuracy: 0.9900 - val_mse: 0.0031\n",
            "Epoch 40/100\n",
            "8125/8125 [==============================] - 21s 3ms/step - loss: 0.0747 - accuracy: 0.9796 - mse: 0.0080 - val_loss: 0.0248 - val_accuracy: 0.9937 - val_mse: 0.0026\n",
            "Epoch 41/100\n",
            "8125/8125 [==============================] - 19s 2ms/step - loss: 0.0641 - accuracy: 0.9817 - mse: 0.0071 - val_loss: 0.0329 - val_accuracy: 0.9902 - val_mse: 0.0026\n",
            "Epoch 42/100\n",
            "8125/8125 [==============================] - 20s 2ms/step - loss: 0.0690 - accuracy: 0.9808 - mse: 0.0076 - val_loss: 0.0242 - val_accuracy: 0.9942 - val_mse: 0.0024\n",
            "Epoch 43/100\n",
            "8125/8125 [==============================] - 20s 2ms/step - loss: 0.0674 - accuracy: 0.9817 - mse: 0.0072 - val_loss: 0.0230 - val_accuracy: 0.9940 - val_mse: 0.0022\n",
            "Epoch 44/100\n",
            "8125/8125 [==============================] - 20s 3ms/step - loss: 0.0660 - accuracy: 0.9824 - mse: 0.0070 - val_loss: 0.0197 - val_accuracy: 0.9943 - val_mse: 0.0019\n",
            "Epoch 45/100\n",
            "8125/8125 [==============================] - 21s 3ms/step - loss: 0.0613 - accuracy: 0.9822 - mse: 0.0069 - val_loss: 0.0225 - val_accuracy: 0.9944 - val_mse: 0.0023\n",
            "Epoch 46/100\n",
            "8125/8125 [==============================] - 20s 2ms/step - loss: 0.0625 - accuracy: 0.9825 - mse: 0.0069 - val_loss: 0.0244 - val_accuracy: 0.9927 - val_mse: 0.0027\n",
            "Epoch 47/100\n",
            "8125/8125 [==============================] - 19s 2ms/step - loss: 0.0683 - accuracy: 0.9811 - mse: 0.0074 - val_loss: 0.0241 - val_accuracy: 0.9938 - val_mse: 0.0024\n",
            "Epoch 48/100\n",
            "8125/8125 [==============================] - 19s 2ms/step - loss: 0.0622 - accuracy: 0.9826 - mse: 0.0068 - val_loss: 0.0282 - val_accuracy: 0.9901 - val_mse: 0.0034\n",
            "Epoch 49/100\n",
            "8125/8125 [==============================] - 20s 3ms/step - loss: 0.0664 - accuracy: 0.9821 - mse: 0.0070 - val_loss: 0.0304 - val_accuracy: 0.9893 - val_mse: 0.0033\n",
            "Epoch 50/100\n",
            "8125/8125 [==============================] - 21s 3ms/step - loss: 0.0616 - accuracy: 0.9825 - mse: 0.0069 - val_loss: 0.0211 - val_accuracy: 0.9902 - val_mse: 0.0026\n",
            "Epoch 51/100\n",
            "8125/8125 [==============================] - 19s 2ms/step - loss: 0.0622 - accuracy: 0.9825 - mse: 0.0068 - val_loss: 0.0202 - val_accuracy: 0.9944 - val_mse: 0.0022\n",
            "Epoch 52/100\n",
            "8125/8125 [==============================] - 21s 3ms/step - loss: 0.0651 - accuracy: 0.9827 - mse: 0.0068 - val_loss: 0.0237 - val_accuracy: 0.9900 - val_mse: 0.0027\n",
            "Epoch 53/100\n",
            "8125/8125 [==============================] - 20s 2ms/step - loss: 0.0613 - accuracy: 0.9826 - mse: 0.0068 - val_loss: 0.0207 - val_accuracy: 0.9947 - val_mse: 0.0021\n",
            "Epoch 54/100\n",
            "8125/8125 [==============================] - 20s 2ms/step - loss: 0.0633 - accuracy: 0.9822 - mse: 0.0070 - val_loss: 0.0209 - val_accuracy: 0.9944 - val_mse: 0.0023\n",
            "Epoch 55/100\n",
            "8125/8125 [==============================] - 20s 2ms/step - loss: 0.0627 - accuracy: 0.9825 - mse: 0.0068 - val_loss: 0.0201 - val_accuracy: 0.9946 - val_mse: 0.0020\n",
            "Epoch 56/100\n",
            "8125/8125 [==============================] - 21s 3ms/step - loss: 0.0628 - accuracy: 0.9826 - mse: 0.0068 - val_loss: 0.0228 - val_accuracy: 0.9913 - val_mse: 0.0025\n",
            "Epoch 57/100\n",
            "8125/8125 [==============================] - 19s 2ms/step - loss: 0.0635 - accuracy: 0.9824 - mse: 0.0069 - val_loss: 0.0239 - val_accuracy: 0.9943 - val_mse: 0.0022\n",
            "Epoch 58/100\n",
            "8125/8125 [==============================] - 20s 2ms/step - loss: 0.0618 - accuracy: 0.9825 - mse: 0.0068 - val_loss: 0.0233 - val_accuracy: 0.9939 - val_mse: 0.0024\n",
            "Epoch 59/100\n",
            "8125/8125 [==============================] - 20s 2ms/step - loss: 0.0686 - accuracy: 0.9829 - mse: 0.0067 - val_loss: 0.0202 - val_accuracy: 0.9945 - val_mse: 0.0021\n",
            "Epoch 60/100\n",
            "8125/8125 [==============================] - 20s 2ms/step - loss: 0.0612 - accuracy: 0.9827 - mse: 0.0068 - val_loss: 0.0195 - val_accuracy: 0.9944 - val_mse: 0.0021\n",
            "Epoch 61/100\n",
            "8125/8125 [==============================] - 21s 3ms/step - loss: 0.0609 - accuracy: 0.9830 - mse: 0.0067 - val_loss: 0.0200 - val_accuracy: 0.9943 - val_mse: 0.0020\n",
            "Epoch 62/100\n",
            "8125/8125 [==============================] - 21s 3ms/step - loss: 0.0623 - accuracy: 0.9827 - mse: 0.0067 - val_loss: 0.0208 - val_accuracy: 0.9934 - val_mse: 0.0024\n",
            "Epoch 63/100\n",
            "8125/8125 [==============================] - 21s 3ms/step - loss: 0.0574 - accuracy: 0.9836 - mse: 0.0064 - val_loss: 0.0205 - val_accuracy: 0.9942 - val_mse: 0.0021\n",
            "Epoch 64/100\n",
            "8125/8125 [==============================] - 20s 2ms/step - loss: 0.0616 - accuracy: 0.9832 - mse: 0.0067 - val_loss: 0.0222 - val_accuracy: 0.9946 - val_mse: 0.0022\n",
            "Epoch 65/100\n",
            "8125/8125 [==============================] - 21s 3ms/step - loss: 0.0612 - accuracy: 0.9830 - mse: 0.0067 - val_loss: 0.0214 - val_accuracy: 0.9929 - val_mse: 0.0023\n",
            "Epoch 66/100\n",
            "8125/8125 [==============================] - 20s 2ms/step - loss: 0.0613 - accuracy: 0.9829 - mse: 0.0068 - val_loss: 0.0254 - val_accuracy: 0.9923 - val_mse: 0.0028\n",
            "Epoch 67/100\n",
            "8125/8125 [==============================] - 21s 3ms/step - loss: 0.0604 - accuracy: 0.9834 - mse: 0.0066 - val_loss: 0.0204 - val_accuracy: 0.9946 - val_mse: 0.0022\n",
            "Epoch 68/100\n",
            "8125/8125 [==============================] - 20s 3ms/step - loss: 0.0618 - accuracy: 0.9831 - mse: 0.0067 - val_loss: 0.0208 - val_accuracy: 0.9946 - val_mse: 0.0022\n",
            "Epoch 69/100\n",
            "8125/8125 [==============================] - 20s 2ms/step - loss: 0.0610 - accuracy: 0.9832 - mse: 0.0066 - val_loss: 0.0276 - val_accuracy: 0.9949 - val_mse: 0.0021\n",
            "Epoch 70/100\n",
            "8125/8125 [==============================] - 20s 3ms/step - loss: 0.0582 - accuracy: 0.9832 - mse: 0.0066 - val_loss: 0.0214 - val_accuracy: 0.9904 - val_mse: 0.0025\n",
            "Epoch 71/100\n",
            "8125/8125 [==============================] - 21s 3ms/step - loss: 0.0622 - accuracy: 0.9829 - mse: 0.0067 - val_loss: 0.0234 - val_accuracy: 0.9945 - val_mse: 0.0023\n",
            "Epoch 72/100\n",
            "8125/8125 [==============================] - 20s 2ms/step - loss: 0.0587 - accuracy: 0.9832 - mse: 0.0066 - val_loss: 0.0204 - val_accuracy: 0.9945 - val_mse: 0.0021\n",
            "Epoch 73/100\n",
            "8125/8125 [==============================] - 20s 2ms/step - loss: 0.0608 - accuracy: 0.9832 - mse: 0.0066 - val_loss: 0.0203 - val_accuracy: 0.9925 - val_mse: 0.0024\n",
            "Epoch 74/100\n",
            "8125/8125 [==============================] - 20s 2ms/step - loss: 0.0617 - accuracy: 0.9832 - mse: 0.0066 - val_loss: 0.0623 - val_accuracy: 0.9914 - val_mse: 0.0024\n",
            "Epoch 75/100\n",
            "8125/8125 [==============================] - 20s 2ms/step - loss: 0.0593 - accuracy: 0.9835 - mse: 0.0065 - val_loss: 0.0190 - val_accuracy: 0.9944 - val_mse: 0.0020\n",
            "Epoch 76/100\n",
            "8125/8125 [==============================] - 21s 3ms/step - loss: 0.0588 - accuracy: 0.9838 - mse: 0.0064 - val_loss: 0.0330 - val_accuracy: 0.9935 - val_mse: 0.0027\n",
            "Epoch 77/100\n",
            "8125/8125 [==============================] - 20s 2ms/step - loss: 0.0618 - accuracy: 0.9829 - mse: 0.0067 - val_loss: 0.0229 - val_accuracy: 0.9927 - val_mse: 0.0025\n",
            "Epoch 78/100\n",
            "8125/8125 [==============================] - 21s 3ms/step - loss: 0.0568 - accuracy: 0.9839 - mse: 0.0064 - val_loss: 0.0202 - val_accuracy: 0.9946 - val_mse: 0.0020\n",
            "Epoch 79/100\n",
            "8125/8125 [==============================] - 20s 2ms/step - loss: 0.0600 - accuracy: 0.9834 - mse: 0.0066 - val_loss: 0.0195 - val_accuracy: 0.9945 - val_mse: 0.0019\n",
            "Epoch 80/100\n",
            "8125/8125 [==============================] - 20s 2ms/step - loss: 0.0596 - accuracy: 0.9833 - mse: 0.0065 - val_loss: 0.0202 - val_accuracy: 0.9947 - val_mse: 0.0021\n",
            "Epoch 81/100\n",
            "8125/8125 [==============================] - 20s 2ms/step - loss: 0.0578 - accuracy: 0.9838 - mse: 0.0064 - val_loss: 0.0234 - val_accuracy: 0.9947 - val_mse: 0.0020\n",
            "Epoch 82/100\n",
            "8125/8125 [==============================] - 21s 3ms/step - loss: 0.0583 - accuracy: 0.9841 - mse: 0.0063 - val_loss: 0.0249 - val_accuracy: 0.9889 - val_mse: 0.0033\n",
            "Epoch 83/100\n",
            "8125/8125 [==============================] - 20s 2ms/step - loss: 0.0570 - accuracy: 0.9836 - mse: 0.0064 - val_loss: 0.0421 - val_accuracy: 0.9939 - val_mse: 0.0024\n",
            "Epoch 84/100\n",
            "8125/8125 [==============================] - 21s 3ms/step - loss: 0.0570 - accuracy: 0.9841 - mse: 0.0063 - val_loss: 0.0214 - val_accuracy: 0.9939 - val_mse: 0.0023\n",
            "Epoch 85/100\n",
            "8125/8125 [==============================] - 20s 3ms/step - loss: 0.0567 - accuracy: 0.9841 - mse: 0.0063 - val_loss: 0.0227 - val_accuracy: 0.9947 - val_mse: 0.0025\n",
            "Epoch 86/100\n",
            "8125/8125 [==============================] - 20s 2ms/step - loss: 0.0591 - accuracy: 0.9838 - mse: 0.0064 - val_loss: 0.0198 - val_accuracy: 0.9944 - val_mse: 0.0021\n",
            "Epoch 87/100\n",
            "8125/8125 [==============================] - 21s 3ms/step - loss: 0.0567 - accuracy: 0.9845 - mse: 0.0061 - val_loss: 0.0189 - val_accuracy: 0.9946 - val_mse: 0.0020\n",
            "Epoch 88/100\n",
            "8125/8125 [==============================] - 21s 3ms/step - loss: 0.0566 - accuracy: 0.9841 - mse: 0.0063 - val_loss: 0.0214 - val_accuracy: 0.9944 - val_mse: 0.0022\n",
            "Epoch 89/100\n",
            "8125/8125 [==============================] - 21s 3ms/step - loss: 0.0603 - accuracy: 0.9843 - mse: 0.0062 - val_loss: 0.0233 - val_accuracy: 0.9890 - val_mse: 0.0028\n",
            "Epoch 90/100\n",
            "8125/8125 [==============================] - 21s 3ms/step - loss: 0.0644 - accuracy: 0.9836 - mse: 0.0064 - val_loss: 0.0207 - val_accuracy: 0.9944 - val_mse: 0.0022\n",
            "Epoch 91/100\n",
            "8125/8125 [==============================] - 20s 2ms/step - loss: 0.0583 - accuracy: 0.9843 - mse: 0.0062 - val_loss: 0.0194 - val_accuracy: 0.9949 - val_mse: 0.0019\n",
            "Epoch 92/100\n",
            "8125/8125 [==============================] - 20s 3ms/step - loss: 0.0558 - accuracy: 0.9843 - mse: 0.0062 - val_loss: 0.0200 - val_accuracy: 0.9948 - val_mse: 0.0020\n",
            "Epoch 93/100\n",
            "8125/8125 [==============================] - 21s 3ms/step - loss: 0.0614 - accuracy: 0.9845 - mse: 0.0061 - val_loss: 0.0216 - val_accuracy: 0.9940 - val_mse: 0.0024\n",
            "Epoch 94/100\n",
            "8125/8125 [==============================] - 21s 3ms/step - loss: 0.0554 - accuracy: 0.9844 - mse: 0.0061 - val_loss: 0.0227 - val_accuracy: 0.9944 - val_mse: 0.0024\n",
            "Epoch 95/100\n",
            "8125/8125 [==============================] - 20s 3ms/step - loss: 0.0587 - accuracy: 0.9840 - mse: 0.0063 - val_loss: 0.0204 - val_accuracy: 0.9940 - val_mse: 0.0023\n",
            "Epoch 96/100\n",
            "8125/8125 [==============================] - 21s 3ms/step - loss: 0.0566 - accuracy: 0.9840 - mse: 0.0063 - val_loss: 0.0203 - val_accuracy: 0.9945 - val_mse: 0.0019\n",
            "Epoch 97/100\n",
            "8125/8125 [==============================] - 21s 3ms/step - loss: 0.0580 - accuracy: 0.9839 - mse: 0.0064 - val_loss: 0.0219 - val_accuracy: 0.9942 - val_mse: 0.0021\n",
            "Epoch 98/100\n",
            "8125/8125 [==============================] - 21s 3ms/step - loss: 0.0570 - accuracy: 0.9839 - mse: 0.0064 - val_loss: 0.0259 - val_accuracy: 0.9892 - val_mse: 0.0031\n",
            "Epoch 99/100\n",
            "8125/8125 [==============================] - 21s 3ms/step - loss: 0.0589 - accuracy: 0.9840 - mse: 0.0063 - val_loss: 0.0208 - val_accuracy: 0.9946 - val_mse: 0.0021\n",
            "Epoch 100/100\n",
            "8125/8125 [==============================] - 21s 3ms/step - loss: 0.0593 - accuracy: 0.9836 - mse: 0.0065 - val_loss: 0.0222 - val_accuracy: 0.9941 - val_mse: 0.0021\n",
            "8750/8750 [==============================] - 16s 2ms/step - loss: 0.0222 - accuracy: 0.9941 - mse: 0.0021\n",
            "Test results - Loss: 0.022154822945594788 - Accuracy: 0.9941357374191284%\n"
          ]
        }
      ]
    },
    {
      "cell_type": "code",
      "source": [
        "x_train.info()"
      ],
      "metadata": {
        "colab": {
          "base_uri": "https://localhost:8080/"
        },
        "id": "OuUCx9SWqbAg",
        "outputId": "dd14fe30-c976-4ec2-fa13-f7708ff032ef"
      },
      "execution_count": null,
      "outputs": [
        {
          "output_type": "stream",
          "name": "stdout",
          "text": [
            "<class 'pandas.core.frame.DataFrame'>\n",
            "Int64Index: 520000 entries, 2253029 to 250032\n",
            "Data columns (total 55 columns):\n",
            " #   Column                       Non-Null Count   Dtype\n",
            "---  ------                       --------------   -----\n",
            " 0    Destination Port            520000 non-null  uint8\n",
            " 1    Flow Duration               520000 non-null  uint8\n",
            " 2    Total Fwd Packets           520000 non-null  uint8\n",
            " 3    Total Backward Packets      520000 non-null  uint8\n",
            " 4   Total Length of Fwd Packets  520000 non-null  uint8\n",
            " 5    Fwd Packet Length Max       520000 non-null  uint8\n",
            " 6    Fwd Packet Length Min       520000 non-null  uint8\n",
            " 7    Fwd Packet Length Mean      520000 non-null  uint8\n",
            " 8    Fwd Packet Length Std       520000 non-null  uint8\n",
            " 9   Bwd Packet Length Max        520000 non-null  uint8\n",
            " 10   Bwd Packet Length Min       520000 non-null  uint8\n",
            " 11   Bwd Packet Length Mean      520000 non-null  uint8\n",
            " 12   Bwd Packet Length Std       520000 non-null  uint8\n",
            " 13  Flow Bytes/s                 520000 non-null  uint8\n",
            " 14   Flow Packets/s              520000 non-null  uint8\n",
            " 15   Flow IAT Mean               520000 non-null  uint8\n",
            " 16   Flow IAT Std                520000 non-null  uint8\n",
            " 17   Flow IAT Max                520000 non-null  uint8\n",
            " 18   Flow IAT Min                520000 non-null  uint8\n",
            " 19  Fwd IAT Total                520000 non-null  uint8\n",
            " 20   Fwd IAT Mean                520000 non-null  uint8\n",
            " 21   Fwd IAT Std                 520000 non-null  uint8\n",
            " 22   Fwd IAT Max                 520000 non-null  uint8\n",
            " 23   Fwd IAT Min                 520000 non-null  uint8\n",
            " 24  Bwd IAT Total                520000 non-null  uint8\n",
            " 25   Bwd IAT Max                 520000 non-null  uint8\n",
            " 26  Fwd PSH Flags                520000 non-null  uint8\n",
            " 27   Fwd Header Length           520000 non-null  uint8\n",
            " 28   Bwd Header Length           520000 non-null  uint8\n",
            " 29  Fwd Packets/s                520000 non-null  uint8\n",
            " 30   Min Packet Length           520000 non-null  uint8\n",
            " 31   Max Packet Length           520000 non-null  uint8\n",
            " 32   Packet Length Mean          520000 non-null  uint8\n",
            " 33   Packet Length Std           520000 non-null  uint8\n",
            " 34   Packet Length Variance      520000 non-null  uint8\n",
            " 35  FIN Flag Count               520000 non-null  uint8\n",
            " 36   PSH Flag Count              520000 non-null  uint8\n",
            " 37   ACK Flag Count              520000 non-null  uint8\n",
            " 38   URG Flag Count              520000 non-null  uint8\n",
            " 39   Average Packet Size         520000 non-null  uint8\n",
            " 40   Avg Fwd Segment Size        520000 non-null  uint8\n",
            " 41   Avg Bwd Segment Size        520000 non-null  uint8\n",
            " 42   Fwd Header Length.1         520000 non-null  uint8\n",
            " 43  Subflow Fwd Packets          520000 non-null  uint8\n",
            " 44   Subflow Fwd Bytes           520000 non-null  uint8\n",
            " 45   Subflow Bwd Packets         520000 non-null  uint8\n",
            " 46   Subflow Bwd Bytes           520000 non-null  uint8\n",
            " 47  Init_Win_bytes_forward       520000 non-null  uint8\n",
            " 48   Init_Win_bytes_backward     520000 non-null  uint8\n",
            " 49   act_data_pkt_fwd            520000 non-null  uint8\n",
            " 50   min_seg_size_forward        520000 non-null  uint8\n",
            " 51  Idle Mean                    520000 non-null  uint8\n",
            " 52   Idle Std                    520000 non-null  uint8\n",
            " 53   Idle Max                    520000 non-null  uint8\n",
            " 54   Idle Min                    520000 non-null  uint8\n",
            "dtypes: uint8(55)\n",
            "memory usage: 31.2 MB\n"
          ]
        }
      ]
    },
    {
      "cell_type": "code",
      "metadata": {
        "id": "CrVJnsatBpRD"
      },
      "source": [
        "new_df[' Label'].value_counts()"
      ],
      "execution_count": null,
      "outputs": []
    },
    {
      "cell_type": "code",
      "metadata": {
        "colab": {
          "base_uri": "https://localhost:8080/"
        },
        "id": "nvb5CTgRBpX_",
        "outputId": "e1c6a0a5-86e0-4daa-b995-c2e106265354"
      },
      "source": [
        "test_results = model.evaluate(x_test, Y_test, verbose=1)"
      ],
      "execution_count": null,
      "outputs": [
        {
          "output_type": "stream",
          "name": "stdout",
          "text": [
            "8750/8750 [==============================] - 15s 2ms/step - loss: 0.0222 - accuracy: 0.9941 - mse: 0.0021\n"
          ]
        }
      ]
    },
    {
      "cell_type": "code",
      "metadata": {
        "id": "dcpCWxuRBpaW"
      },
      "source": [
        "x_test.head(10)"
      ],
      "execution_count": null,
      "outputs": []
    },
    {
      "cell_type": "code",
      "metadata": {
        "id": "T17WFiwBI54v"
      },
      "source": [
        "l = model.predict(x_test, verbose=0)"
      ],
      "execution_count": null,
      "outputs": []
    },
    {
      "cell_type": "code",
      "metadata": {
        "id": "xVEPqMXALuaz"
      },
      "source": [
        "l = np.argmax(l, axis=1)\n",
        "prediction_int = np.zeroes_like(prediction)\n",
        "prediction_int[prediction > 0.5] = 1"
      ],
      "execution_count": null,
      "outputs": []
    },
    {
      "cell_type": "code",
      "source": [
        ""
      ],
      "metadata": {
        "id": "8JzSDFjIXtXd"
      },
      "execution_count": null,
      "outputs": []
    },
    {
      "cell_type": "code",
      "metadata": {
        "colab": {
          "base_uri": "https://localhost:8080/"
        },
        "id": "VdoylNFeNAQA",
        "outputId": "f9c43a8a-b734-4dc1-fc57-12b2131d1afb"
      },
      "source": [
        "print(l)\n",
        "# rounding off values of l\n",
        "l = l.round()\n",
        "print(l)"
      ],
      "execution_count": null,
      "outputs": [
        {
          "output_type": "stream",
          "name": "stdout",
          "text": [
            "[[9.9999988e-01 9.4183157e-08 4.1691074e-11 0.0000000e+00]\n",
            " [1.0000000e+00 6.2043266e-11 4.0033752e-16 0.0000000e+00]\n",
            " [1.0000000e+00 1.6741014e-10 1.0743874e-15 0.0000000e+00]\n",
            " ...\n",
            " [1.4764822e-02 8.7535969e-04 3.3552384e-03 9.8100454e-01]\n",
            " [1.0000000e+00 5.3965986e-21 3.7108573e-32 0.0000000e+00]\n",
            " [1.8769801e-05 7.1809183e-17 9.9998128e-01 0.0000000e+00]]\n",
            "[[1. 0. 0. 0.]\n",
            " [1. 0. 0. 0.]\n",
            " [1. 0. 0. 0.]\n",
            " ...\n",
            " [0. 0. 0. 1.]\n",
            " [1. 0. 0. 0.]\n",
            " [0. 0. 1. 0.]]\n"
          ]
        }
      ]
    },
    {
      "cell_type": "code",
      "metadata": {
        "id": "F4dE4WDwgEPF"
      },
      "source": [
        "from sklearn.metrics import f1_score\n"
      ],
      "execution_count": null,
      "outputs": []
    },
    {
      "cell_type": "code",
      "metadata": {
        "colab": {
          "base_uri": "https://localhost:8080/"
        },
        "id": "EVOaOB1pJRy5",
        "outputId": "18d365a7-eb65-4254-8e28-8606cc7408a3"
      },
      "source": [
        "print(f1_score(Y_test, l, average='macro'), 'f1') \n",
        "# 0.22442756164188604 f1\n"
      ],
      "execution_count": null,
      "outputs": [
        {
          "output_type": "stream",
          "name": "stdout",
          "text": [
            "0.992935546000768 f1\n"
          ]
        }
      ]
    },
    {
      "cell_type": "code",
      "metadata": {
        "colab": {
          "base_uri": "https://localhost:8080/"
        },
        "id": "LiRUz1bCJY0D",
        "outputId": "fd5c82a3-f7d5-4713-adbe-e5f37a4b546c"
      },
      "source": [
        "l"
      ],
      "execution_count": null,
      "outputs": [
        {
          "output_type": "execute_result",
          "data": {
            "text/plain": [
              "array([[0.8108735 , 0.04763747, 0.08484388, 0.0566451 ],\n",
              "       [0.8108735 , 0.04763747, 0.08484388, 0.0566451 ],\n",
              "       [0.8108735 , 0.04763747, 0.08484388, 0.0566451 ],\n",
              "       ...,\n",
              "       [0.8108735 , 0.04763747, 0.08484388, 0.0566451 ],\n",
              "       [0.8108735 , 0.04763747, 0.08484388, 0.0566451 ],\n",
              "       [0.8108735 , 0.04763747, 0.08484388, 0.0566451 ]], dtype=float32)"
            ]
          },
          "metadata": {},
          "execution_count": 79
        }
      ]
    },
    {
      "cell_type": "code",
      "metadata": {
        "colab": {
          "base_uri": "https://localhost:8080/"
        },
        "id": "4A9s-0J2JipE",
        "outputId": "f2e5f1d1-dd82-402a-de11-991c5206e28c"
      },
      "source": [
        "Y_test"
      ],
      "execution_count": null,
      "outputs": [
        {
          "output_type": "execute_result",
          "data": {
            "text/plain": [
              "array([[1., 0., 0., 0.],\n",
              "       [1., 0., 0., 0.],\n",
              "       [1., 0., 0., 0.],\n",
              "       ...,\n",
              "       [1., 0., 0., 0.],\n",
              "       [1., 0., 0., 0.],\n",
              "       [1., 0., 0., 0.]], dtype=float32)"
            ]
          },
          "metadata": {},
          "execution_count": 91
        }
      ]
    },
    {
      "cell_type": "code",
      "metadata": {
        "id": "0pnUAhaIXiGN"
      },
      "source": [
        "filename = ('/content/drive/MyDrive/MNAD-FYP/MachineLearningCVE/Dataset-Analysis/800kValidation-Dos-DDos-PS-Benign.h5')\n",
        "valid_df = pd.read_hdf(filename)"
      ],
      "execution_count": null,
      "outputs": []
    },
    {
      "cell_type": "code",
      "metadata": {
        "id": "0CHkuj5Zp4FC"
      },
      "source": [
        "del valid_df['Unnamed: 0']\n",
        "valid_df.columns"
      ],
      "execution_count": null,
      "outputs": []
    },
    {
      "cell_type": "code",
      "metadata": {
        "id": "SipsE3gup6tr"
      },
      "source": [
        "valid_df.replace([np.inf, -np.inf], np.nan, inplace=True)\n",
        "# Dropping all the rows with nan values\n",
        "valid_df.dropna(inplace=True)\n",
        "\n",
        "# le = LabelEncoder()\n",
        "Y=valid_df[' Label']\n",
        "# len(Y)\n",
        "X=valid_df.iloc[:,:-1]"
      ],
      "execution_count": null,
      "outputs": []
    },
    {
      "cell_type": "code",
      "metadata": {
        "id": "33TTCzsTqLWt"
      },
      "source": [
        "# Y_train = to_categorical(, num_classes)\n",
        "Y_test = to_categorical(Y, num_classes)"
      ],
      "execution_count": null,
      "outputs": []
    },
    {
      "cell_type": "code",
      "metadata": {
        "id": "Fmr_hEbJqLUb"
      },
      "source": [
        ""
      ],
      "execution_count": null,
      "outputs": []
    },
    {
      "cell_type": "code",
      "metadata": {
        "id": "2R8o-KINqt2c"
      },
      "source": [
        "# model predict\n",
        "check = model.predict(X, verbose=0)"
      ],
      "execution_count": null,
      "outputs": []
    },
    {
      "cell_type": "code",
      "metadata": {
        "colab": {
          "base_uri": "https://localhost:8080/"
        },
        "id": "wuBLonlwqt2c",
        "outputId": "1688aba2-574d-4fdb-f5c9-b7aff6c26623"
      },
      "source": [
        "print(check)\n",
        "check = check.round()\n",
        "print(check)"
      ],
      "execution_count": null,
      "outputs": [
        {
          "output_type": "stream",
          "name": "stdout",
          "text": [
            "[[1.0000000e+00 1.3289315e-13 2.5395361e-20 0.0000000e+00]\n",
            " [1.0000000e+00 8.0662291e-12 2.2246202e-17 0.0000000e+00]\n",
            " [1.0000000e+00 3.3879440e-21 9.8526837e-35 0.0000000e+00]\n",
            " ...\n",
            " [1.4764822e-02 8.7535969e-04 3.3552384e-03 9.8100454e-01]\n",
            " [1.4764822e-02 8.7535969e-04 3.3552384e-03 9.8100454e-01]\n",
            " [1.4764822e-02 8.7535969e-04 3.3552384e-03 9.8100454e-01]]\n",
            "[[1. 0. 0. 0.]\n",
            " [1. 0. 0. 0.]\n",
            " [1. 0. 0. 0.]\n",
            " ...\n",
            " [0. 0. 0. 1.]\n",
            " [0. 0. 0. 1.]\n",
            " [0. 0. 0. 1.]]\n"
          ]
        }
      ]
    },
    {
      "cell_type": "code",
      "metadata": {
        "colab": {
          "base_uri": "https://localhost:8080/"
        },
        "id": "AqknBK3Tqt2d",
        "outputId": "cdab9fd3-2d94-44f3-836e-f534388039b4"
      },
      "source": [
        "print(f1_score(Y_test, check, average='macro'), 'f1') \n",
        "# 0.22442756164188604 f1\n"
      ],
      "execution_count": null,
      "outputs": [
        {
          "output_type": "stream",
          "name": "stdout",
          "text": [
            "0.99187354905695 f1\n"
          ]
        }
      ]
    },
    {
      "cell_type": "code",
      "metadata": {
        "id": "sbyWrLCNqLSE"
      },
      "source": [
        "# saving model weights\n",
        "filename = ('/content/drive/MyDrive/MNAD-FYP/MachineLearningCVE/Dataset-Analysis/MNAD-DNN.h5')\n",
        "# model.save_weights(filename)"
      ],
      "execution_count": null,
      "outputs": []
    },
    {
      "cell_type": "code",
      "metadata": {
        "id": "BxT0DUSwqLPV"
      },
      "source": [
        "filename = ('/content/drive/MyDrive/MNAD-FYP/MachineLearningCVE/Dataset-Analysis/MNAD-DNN.h5')\n"
      ],
      "execution_count": null,
      "outputs": []
    }
  ]
}