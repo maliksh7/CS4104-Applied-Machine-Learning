{
  "nbformat": 4,
  "nbformat_minor": 0,
  "metadata": {
    "colab": {
      "name": "Decision-Tree.ipynb",
      "provenance": [],
      "collapsed_sections": [],
      "include_colab_link": true
    },
    "kernelspec": {
      "name": "python3",
      "display_name": "Python 3"
    },
    "language_info": {
      "name": "python"
    }
  },
  "cells": [
    {
      "cell_type": "markdown",
      "metadata": {
        "id": "view-in-github",
        "colab_type": "text"
      },
      "source": [
        "<a href=\"https://colab.research.google.com/github/maliksh7/CS4104-Applied-Machine-Learning/blob/main/Decision_Tree.ipynb\" target=\"_parent\"><img src=\"https://colab.research.google.com/assets/colab-badge.svg\" alt=\"Open In Colab\"/></a>"
      ]
    },
    {
      "cell_type": "markdown",
      "source": [
        "##Question 2\n",
        "\n",
        "You are provided with the dataset in Table 1, apply the decision tree classifica-\n",
        "tion algorithm using 70% as training and 30% as validation dataset. Compute\n",
        "\n",
        "the evaluation measures of listed below:\n",
        "1. Precision\n",
        "2. Recall\n",
        "3. Accuracy\n",
        "4. F2-Score\n",
        "5. MCC\n",
        "6. Jaccard Index"
      ],
      "metadata": {
        "id": "UakHGoZKrz78"
      }
    },
    {
      "cell_type": "code",
      "execution_count": null,
      "metadata": {
        "colab": {
          "base_uri": "https://localhost:8080/"
        },
        "id": "J2Kn3LnWPEEV",
        "outputId": "882485b2-14a7-4d74-a108-3e9afb071953"
      },
      "outputs": [
        {
          "output_type": "stream",
          "name": "stdout",
          "text": [
            "Mounted at /content/drive\n"
          ]
        }
      ],
      "source": [
        "from google.colab import drive\n",
        "drive.mount('/content/drive', force_remount=True)"
      ]
    },
    {
      "cell_type": "code",
      "source": [
        "import pandas as pd\n",
        "from pprint import pprint\n",
        "from sklearn.tree import DecisionTreeClassifier # Import Decision Tree Classifier\n",
        "from sklearn.model_selection import train_test_split # Import train_test_split function\n",
        "from sklearn import metrics"
      ],
      "metadata": {
        "id": "AE_7HpX6PJVt"
      },
      "execution_count": null,
      "outputs": []
    },
    {
      "cell_type": "code",
      "source": [
        "df = pd.read_csv('/content/drive/MyDrive/Machine Learning/Assignment 3/dataset/student-data.csv')\n",
        "pprint(df)"
      ],
      "metadata": {
        "colab": {
          "base_uri": "https://localhost:8080/"
        },
        "id": "zMiIRWDBPdex",
        "outputId": "a8902c86-43a0-4b36-ccb6-030abdaff3e0"
      },
      "execution_count": 3,
      "outputs": [
        {
          "output_type": "stream",
          "name": "stdout",
          "text": [
            "   Student ID  Marks > 50  Attendance > 50  Subjects > 20 Grade(S/U)\n",
            "0     P181234           1                1              1          S\n",
            "1     P180001           1                1              0          S\n",
            "2     P180002           0                1              1          U\n",
            "3     P180003           1                0              0          S\n",
            "4     P180004           0                1              1          U\n",
            "5     P180005           1                0              1          S\n",
            "6     P180006           1                1              1          S\n",
            "7     P180007           0                0              0          U\n",
            "8     P180007           0                0              1          U\n",
            "9     P180008           1                1              1          U\n",
            "10    P180009           0                1              1          S\n",
            "11    P180010           1                0              0          S\n",
            "12    P180011           0                1              1          S\n"
          ]
        }
      ]
    },
    {
      "cell_type": "code",
      "source": [
        "df.columns"
      ],
      "metadata": {
        "colab": {
          "base_uri": "https://localhost:8080/"
        },
        "id": "GCAQ4_4WSuNL",
        "outputId": "31be46df-e050-4347-e84b-3b138e50971b"
      },
      "execution_count": 5,
      "outputs": [
        {
          "output_type": "execute_result",
          "data": {
            "text/plain": [
              "Index(['Student ID', 'Marks > 50', 'Attendance > 50', 'Subjects > 20',\n",
              "       'Grade(S/U)'],\n",
              "      dtype='object')"
            ]
          },
          "metadata": {},
          "execution_count": 5
        }
      ]
    },
    {
      "cell_type": "code",
      "source": [
        "features = ['Marks > 50', 'Attendance > 50', 'Subjects > 20']\n",
        "X = df[features] # Features\n",
        "y = df['Grade(S/U)']"
      ],
      "metadata": {
        "id": "P6kgZiODPfZt"
      },
      "execution_count": 8,
      "outputs": []
    },
    {
      "cell_type": "code",
      "source": [
        "X_train, X_test, y_train, y_test = train_test_split(X, y, test_size=0.3, random_state=1) # 70% training and 30% test"
      ],
      "metadata": {
        "id": "gejJSuTiROXG"
      },
      "execution_count": 9,
      "outputs": []
    },
    {
      "cell_type": "code",
      "source": [
        "clf = DecisionTreeClassifier(criterion=\"entropy\")\n",
        "\n",
        "# Train Decision Tree Classifer\n",
        "clf = clf.fit(X_train,y_train)\n"
      ],
      "metadata": {
        "id": "0W2r92YCTbwe"
      },
      "execution_count": 10,
      "outputs": []
    },
    {
      "cell_type": "code",
      "source": [
        "y_pred = clf.predict(X_test)"
      ],
      "metadata": {
        "id": "LBuRkBCuTgLL"
      },
      "execution_count": 12,
      "outputs": []
    },
    {
      "cell_type": "markdown",
      "source": [
        "#Accuracy Score"
      ],
      "metadata": {
        "id": "-eYAuA4SyYsU"
      }
    },
    {
      "cell_type": "code",
      "source": [
        "# Model Accuracy\n",
        "print(\"Accuracy Score: {}\".format(metrics.accuracy_score(y_test, y_pred)))"
      ],
      "metadata": {
        "colab": {
          "base_uri": "https://localhost:8080/"
        },
        "id": "qsEjqdanTrYz",
        "outputId": "23c10eaf-fb43-4b9f-e985-0df37fdaa8fc"
      },
      "execution_count": 13,
      "outputs": [
        {
          "output_type": "stream",
          "name": "stdout",
          "text": [
            "Accuracy Score: 0.5\n"
          ]
        }
      ]
    },
    {
      "cell_type": "markdown",
      "source": [
        "#Recall\n"
      ],
      "metadata": {
        "id": "4Jw3ezfeyTSK"
      }
    },
    {
      "cell_type": "code",
      "source": [
        "# recall\n",
        "from sklearn.metrics import recall_score\n",
        "print(\"Recall Score: {}\".format(recall_score(y_test, y_pred,pos_label=\"S\")))\n"
      ],
      "metadata": {
        "colab": {
          "base_uri": "https://localhost:8080/"
        },
        "id": "Vw71IKa0Wpes",
        "outputId": "cdf54bb4-2eae-4e53-c1b4-b211a827eb43"
      },
      "execution_count": 14,
      "outputs": [
        {
          "output_type": "stream",
          "name": "stdout",
          "text": [
            "Recall Score: 1.0\n"
          ]
        }
      ]
    },
    {
      "cell_type": "markdown",
      "source": [
        "# Precision Score"
      ],
      "metadata": {
        "id": "K0rdwgD8yQfa"
      }
    },
    {
      "cell_type": "code",
      "source": [
        "# Precision Score\n",
        "from sklearn.metrics import precision_score\n",
        "\n",
        "print(\"Precision Score: {}\".format(precision_score(y_test,y_pred,pos_label=\"S\")))\n"
      ],
      "metadata": {
        "colab": {
          "base_uri": "https://localhost:8080/"
        },
        "id": "FXtxuZP2V0rq",
        "outputId": "7caf30d3-dad3-49c1-cfdf-614d0a7ca987"
      },
      "execution_count": 15,
      "outputs": [
        {
          "output_type": "stream",
          "name": "stdout",
          "text": [
            "Precision Score: 0.5\n"
          ]
        }
      ]
    },
    {
      "cell_type": "markdown",
      "source": [
        "# F2 Score\n"
      ],
      "metadata": {
        "id": "oK25g2CHyNXi"
      }
    },
    {
      "cell_type": "code",
      "source": [
        "# F2 Score\n",
        "from sklearn.metrics import fbeta_score\n",
        "print(\"F2 Score: {}\".format(fbeta_score(y_test,y_pred, pos_label=\"S\", beta = 0)))\n"
      ],
      "metadata": {
        "colab": {
          "base_uri": "https://localhost:8080/"
        },
        "id": "jcJIQltJfgUx",
        "outputId": "3141c2b3-0c92-4e06-f0f8-820a96c5bde7"
      },
      "execution_count": 16,
      "outputs": [
        {
          "output_type": "stream",
          "name": "stdout",
          "text": [
            "F2 Score: 0.5\n"
          ]
        }
      ]
    },
    {
      "cell_type": "markdown",
      "source": [
        "#MMC Score"
      ],
      "metadata": {
        "id": "HZO2vDOWyIBC"
      }
    },
    {
      "cell_type": "code",
      "source": [
        "# MMC\n",
        "from sklearn.metrics import matthews_corrcoef\n",
        "print(\"MMC Score: {}\".format(matthews_corrcoef(y_test,y_pred)))\n"
      ],
      "metadata": {
        "colab": {
          "base_uri": "https://localhost:8080/"
        },
        "id": "BdDV4VzhhCql",
        "outputId": "cdfa8307-c98d-460b-e17a-c741befaebb2"
      },
      "execution_count": 17,
      "outputs": [
        {
          "output_type": "stream",
          "name": "stdout",
          "text": [
            "MMC Score: 0.0\n"
          ]
        }
      ]
    },
    {
      "cell_type": "markdown",
      "source": [
        "# Jaccarrd Score"
      ],
      "metadata": {
        "id": "mlkYjc7YyFRC"
      }
    },
    {
      "cell_type": "code",
      "source": [
        "# Jaccarrd Score\n",
        "from sklearn.metrics import jaccard_score\n",
        "print(\"Jaccarrd Score: {}\".format(jaccard_score(y_test,y_pred,pos_label=\"S\")))\n"
      ],
      "metadata": {
        "colab": {
          "base_uri": "https://localhost:8080/"
        },
        "id": "cczQg0iGhg2h",
        "outputId": "c459933b-d028-4541-b48c-9b13a3b56e06"
      },
      "execution_count": 18,
      "outputs": [
        {
          "output_type": "stream",
          "name": "stdout",
          "text": [
            "Jaccarrd Score: 0.5\n"
          ]
        }
      ]
    },
    {
      "cell_type": "code",
      "source": [
        ""
      ],
      "metadata": {
        "id": "vCqy6za6hvgl"
      },
      "execution_count": null,
      "outputs": []
    }
  ]
}